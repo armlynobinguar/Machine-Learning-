{
  "cells": [
    {
      "cell_type": "markdown",
      "metadata": {
        "id": "6ckhT0sf0An3"
      },
      "source": [
        "![](../docs/banner.png)"
      ]
    },
    {
      "cell_type": "markdown",
      "metadata": {
        "id": "QLn7JjYp0An_"
      },
      "source": [
        " # Loops & Functions"
      ]
    },
    {
      "cell_type": "markdown",
      "metadata": {
        "toc": true,
        "id": "cSp52NNN0AoB"
      },
      "source": [
        "<h2>Outline<span class=\"tocSkip\"></span></h2>\n",
        "<hr>\n",
        "<div class=\"toc\"><ul class=\"toc-item\"><li><span>1. <code>for</code> Loops</span></li><li><span>2. <code>while</code> loops</span></li><li><span>3. Comprehensions</span></li><li><span>4. <code>try</code> / <code>except</code></span></li><li><span>5. Functions</span></li><li><span>6. Functions as  a data type</span></li><li><span>7. Anonymous functions</span></li><li><span>8. DRY principle, designing good functions</span></li><li><span>9. Generators</li><li><span>10. Docstrings</span></li></ul></div>"
      ]
    },
    {
      "cell_type": "markdown",
      "metadata": {
        "id": "cTTIEV6Q0AoD"
      },
      "source": [
        "##  Learning Objectives\n",
        "<hr>"
      ]
    },
    {
      "cell_type": "markdown",
      "metadata": {
        "id": "jn9SbcgN0AoE"
      },
      "source": [
        "- Write `for` and `while` loops in Python.\n",
        "- Identify iterable datatypes which can be used in `for` loops.\n",
        "- Create a `list`, `dictionary`, or `set` using comprehension.\n",
        "- Write a `try`/`except` statement.\n",
        "- Define a function and an anonymous function in Python.\n",
        "- Describe the difference between positional and keyword arguments.\n",
        "- Describe the difference between local and global arguments.\n",
        "- Apply the `DRY principle` to write modular code.\n",
        "- Assess whether a function has side effects.\n",
        "- Write a docstring for a function that describes parameters, return values, behaviour and usage."
      ]
    },
    {
      "cell_type": "markdown",
      "metadata": {
        "id": "8dCXl2cA0AoH"
      },
      "source": [
        "## 1. `for` Loops\n",
        "<hr>"
      ]
    },
    {
      "cell_type": "markdown",
      "metadata": {
        "id": "7kmwO-Mm0AoJ"
      },
      "source": [
        "For loops allow us to execute code a specific number of times."
      ]
    },
    {
      "cell_type": "markdown",
      "metadata": {
        "id": "ChuNALNw0AoK"
      },
      "source": [
        "z= [5,3,-4,2, 6,6,6]\n",
        "print(\"Squre of {z[0]}is {z[0]**2}\")\n",
        ";;\n",
        ";;\n",
        ";;\n",
        ";;\n"
      ]
    },
    {
      "cell_type": "code",
      "execution_count": null,
      "metadata": {
        "id": "whsgzigu0AoL",
        "outputId": "4c1b8dbc-8e26-4bd8-e39c-7464eb936dbc"
      },
      "outputs": [
        {
          "name": "stdout",
          "output_type": "stream",
          "text": [
            "The number is 5 and its square is 25\n",
            "The number is 3 and its square is 9\n",
            "The number is -4 and its square is 16\n",
            "The number is 2 and its square is 4\n",
            "The number is 8 and its square is 64\n",
            "The number is 0 and its square is 0\n",
            "The number is -7 and its square is 49\n",
            "The number is 10 and its square is 100\n",
            "The number is -5 and its square is 25\n",
            "I'm outside the loop!\n"
          ]
        }
      ],
      "source": [
        "#name = \"Erum Afzal\"\n",
        "for z in [5, 3, -4, 2,8, 0, -7,10, -5]:\n",
        "    print(f\"The number is {z} and its square is {z**2}\")\n",
        "print(\"I'm outside the loop!\")"
      ]
    },
    {
      "cell_type": "markdown",
      "metadata": {
        "id": "FLjUIgCz0AoQ"
      },
      "source": [
        "The main points to notice:\n",
        "\n",
        "* Keyword `for` begins the loop. Colon `:` ends the first line of the loop.\n",
        "* Block of code indented is executed for each value in the list (hence the name \"for\" loops)\n",
        "* The loop ends after the variable `n` has taken all the values in the list\n",
        "* We can iterate over any kind of \"iterable\": `list`, `tuple`, `range`, `set`, `string`.\n",
        "* An iterable is really just any object with a sequence of values that can be looped over. In this case, we are iterating over the values in a list."
      ]
    },
    {
      "cell_type": "code",
      "execution_count": null,
      "metadata": {
        "id": "IwNEi9eE0AoS",
        "outputId": "527f223b-2982-4149-99f2-963fdd1fda35"
      },
      "outputs": [
        {
          "name": "stdout",
          "output_type": "stream",
          "text": [
            "The characters in my name are E !\n",
            "The characters in my name are r !\n",
            "The characters in my name are u !\n",
            "The characters in my name are m !\n",
            "The characters in my name are   !\n",
            "The characters in my name are A !\n",
            "The characters in my name are f !\n",
            "The characters in my name are z !\n",
            "The characters in my name are a !\n",
            "The characters in my name are l !\n",
            "------\n",
            "What's taht Spell?!!Erum Afzal\n"
          ]
        }
      ],
      "source": [
        "name = \"Erum Afzal\"\n",
        "for c in name:\n",
        "    print(\"The characters in my name are\",c, \"!\")\n",
        "    \n",
        "print(\"------\")\n",
        "print(f\"What's taht Spell?!!{name}\")\n",
        "    "
      ]
    },
    {
      "cell_type": "code",
      "execution_count": null,
      "metadata": {
        "id": "CCakWDZw0AoT",
        "outputId": "4705831c-00da-4c2d-dafb-bdf0c0285354"
      },
      "outputs": [
        {
          "name": "stdout",
          "output_type": "stream",
          "text": [
            "Gimme a P!\n",
            "Gimme a y!\n",
            "Gimme a t!\n",
            "Gimme a h!\n",
            "Gimme a o!\n",
            "Gimme a n!\n",
            "What's that spell?!! Python!\n"
          ]
        }
      ],
      "source": [
        "word = \"Python\"\n",
        "for l in word:\n",
        "    print(\"Gimme a \" + l+ \"!\")\n",
        "\n",
        "print(f\"What's that spell?!! {word}!\")"
      ]
    },
    {
      "cell_type": "markdown",
      "metadata": {
        "id": "-ctifJEW0AoT"
      },
      "source": [
        "A very common pattern is to use `for` with the `range()`. `range()` gives you a sequence of integers up to some value (non-inclusive of the end-value) and is typically used for looping."
      ]
    },
    {
      "cell_type": "code",
      "execution_count": null,
      "metadata": {
        "id": "fkvwqzzY0AoU",
        "outputId": "9ff4e4a6-16b1-4adf-b090-e687043c03ba"
      },
      "outputs": [
        {
          "data": {
            "text/plain": [
              "[0, 1, 2, 3, 4, 5, 6, 7]"
            ]
          },
          "execution_count": 16,
          "metadata": {},
          "output_type": "execute_result"
        }
      ],
      "source": [
        "range(10)\n",
        "range (8)\n",
        "list(range(8))"
      ]
    },
    {
      "cell_type": "code",
      "execution_count": null,
      "metadata": {
        "id": "_JzY3UML0AoV",
        "outputId": "dcdb0b31-777a-4c8e-9858-54ff4c9e243b"
      },
      "outputs": [
        {
          "data": {
            "text/plain": [
              "[0, 1, 2, 3, 4, 5, 6, 7, 8, 9]"
            ]
          },
          "execution_count": 15,
          "metadata": {},
          "output_type": "execute_result"
        }
      ],
      "source": [
        "list(range(10))"
      ]
    },
    {
      "cell_type": "code",
      "execution_count": null,
      "metadata": {
        "id": "QYy9RQLH0AoW"
      },
      "outputs": [],
      "source": [
        "for x in range(1,11):\n",
        "    print(f\"Square of, {x} is: {x*x}\")"
      ]
    },
    {
      "cell_type": "code",
      "execution_count": null,
      "metadata": {
        "id": "m4qaSSMi0AoW",
        "outputId": "be5f78ef-bdb5-4523-abb3-8575c27d16f0"
      },
      "outputs": [
        {
          "name": "stdout",
          "output_type": "stream",
          "text": [
            "0\n",
            "1\n",
            "2\n",
            "3\n",
            "4\n",
            "5\n",
            "6\n",
            "7\n",
            "8\n",
            "9\n"
          ]
        }
      ],
      "source": [
        "for i in range(10):\n",
        "    print(i)"
      ]
    },
    {
      "cell_type": "markdown",
      "metadata": {
        "id": "ER5WPoxw0AoX"
      },
      "source": [
        "We can also specify a start value and a skip-by value with `range`:"
      ]
    },
    {
      "cell_type": "markdown",
      "metadata": {
        "id": "iiMEwMfr0AoX"
      },
      "source": [
        "5 X 1 = 5\n",
        "5 X 2 = 10\n",
        "5 X 3 = 15\n",
        "\n"
      ]
    },
    {
      "cell_type": "code",
      "execution_count": null,
      "metadata": {
        "id": "rIWDmMpI0AoY"
      },
      "outputs": [],
      "source": [
        "n=int(input(\"enter a Number\"))\n",
        "for i in range(1,11):\n",
        "    print(f\"\")\n",
        "    "
      ]
    },
    {
      "cell_type": "code",
      "execution_count": null,
      "metadata": {
        "id": "Gafru3Ic0AoZ",
        "outputId": "e7acc346-1542-475d-f6af-e90fe3a41516"
      },
      "outputs": [
        {
          "name": "stdout",
          "output_type": "stream",
          "text": [
            "2\n",
            "8\n",
            "14\n",
            "20\n",
            "26\n",
            "32\n",
            "38\n",
            "44\n",
            "50\n",
            "56\n",
            "62\n",
            "68\n",
            "74\n",
            "80\n",
            "86\n",
            "92\n",
            "98\n"
          ]
        }
      ],
      "source": [
        "for i in range(2, 101, 6):\n",
        "    print(i)"
      ]
    },
    {
      "cell_type": "markdown",
      "metadata": {
        "id": "NKOcFIIb0AoZ"
      },
      "source": [
        "We can write a loop inside another loop to iterate over multiple dimensions of data:"
      ]
    },
    {
      "cell_type": "code",
      "execution_count": null,
      "metadata": {
        "id": "mDEf8eg70Aoa",
        "outputId": "c3521786-5685-47bf-9646-1356936a4bfa"
      },
      "outputs": [
        {
          "name": "stdout",
          "output_type": "stream",
          "text": [
            "Enter a number: 7\n",
            "7 X 1 = 7\n",
            "7 X 2 = 14\n",
            "7 X 3 = 21\n",
            "7 X 4 = 28\n",
            "7 X 5 = 35\n",
            "7 X 6 = 42\n",
            "7 X 7 = 49\n",
            "7 X 8 = 56\n",
            "7 X 9 = 63\n",
            "7 X 10 = 70\n"
          ]
        }
      ],
      "source": [
        "n = int(input(\"Enter a number: \"))\n",
        "\n",
        "for i in range(1,11):\n",
        "    print (f\"{n} X {i} = {n * i}\")"
      ]
    },
    {
      "cell_type": "markdown",
      "metadata": {
        "id": "sZa7irtu0Aoa"
      },
      "source": [
        "n=int(input('enter a number'))\n",
        "for i in range (1, 11):\n",
        "    print(f\"{n} X {i} = {n*i}\")"
      ]
    },
    {
      "cell_type": "markdown",
      "metadata": {
        "id": "m_OVHHiB0Aob"
      },
      "source": [
        "NESTED LOOP\n",
        "Outer 1 condition complete Inner will be executed\n"
      ]
    },
    {
      "cell_type": "code",
      "execution_count": null,
      "metadata": {
        "id": "wpzzz8H-0Aob",
        "outputId": "3d47a765-8195-4f7f-e3ad-b211473c73d8"
      },
      "outputs": [
        {
          "name": "stdout",
          "output_type": "stream",
          "text": [
            "The value of i is 1 and J is: 1\n",
            "Inner Loop ends here\n",
            "Outer ends here\n"
          ]
        }
      ],
      "source": [
        "for i in range(1, 2):\n",
        "    for j in range(1,2):\n",
        "        print(f\"The value of i is {i} and J is: {j}\")\n",
        "    print(\"Inner Loop ends here\")\n",
        "print(\"Outer ends here\")"
      ]
    },
    {
      "cell_type": "code",
      "execution_count": null,
      "metadata": {
        "id": "8ZE37JHg0Aoc",
        "outputId": "cc258089-7c02-4cfc-dc0d-84b3ff0b4afb"
      },
      "outputs": [
        {
          "name": "stdout",
          "output_type": "stream",
          "text": [
            "(1, 'a')\n",
            "(1, 'b')\n",
            "(1, 'c')\n",
            "(1, 'd')\n",
            "(2, 'a')\n",
            "(2, 'b')\n",
            "(2, 'c')\n",
            "(2, 'd')\n",
            "(3, 'a')\n",
            "(3, 'b')\n",
            "(3, 'c')\n",
            "(3, 'd')\n"
          ]
        }
      ],
      "source": [
        "for x in [1, 2, 3]:\n",
        "    for y in [\"a\", \"b\", \"c\",\"d\"]:\n",
        "        print((x, y))"
      ]
    },
    {
      "cell_type": "code",
      "execution_count": null,
      "metadata": {
        "id": "wr9NZPxf0Aoe"
      },
      "outputs": [],
      "source": [
        "marks = [25,30,60,50]"
      ]
    },
    {
      "cell_type": "code",
      "execution_count": null,
      "metadata": {
        "id": "00BJ5T2K0Aoe",
        "outputId": "2d116767-3f7e-4238-eabb-d41253e5946b"
      },
      "outputs": [
        {
          "name": "stdout",
          "output_type": "stream",
          "text": [
            "0 a\n",
            "1 b\n",
            "2 c\n"
          ]
        }
      ],
      "source": [
        "list_1 = [0, 1, 2]\n",
        "list_2 = [\"a\", \"b\", \"c\"]\n",
        "for i in range(3):\n",
        "    print(list_1[i], list_2[i])"
      ]
    },
    {
      "cell_type": "markdown",
      "metadata": {
        "id": "lu4S72dT0Aof"
      },
      "source": [
        "There are many clever ways of doing these kinds of things in Python. When looping over objects, I tend to use `zip()` and `enumerate()` quite a lot in my work. `zip()` returns a zip object which is an iterable of tuples."
      ]
    },
    {
      "cell_type": "code",
      "execution_count": null,
      "metadata": {
        "id": "W-F-QyBH0Aof",
        "outputId": "ba990906-a8fe-4a47-f31e-3485e32117a1"
      },
      "outputs": [
        {
          "name": "stdout",
          "output_type": "stream",
          "text": [
            "(5, 'a')\n",
            "(7, 'b')\n",
            "(2, 'c')\n"
          ]
        }
      ],
      "source": [
        "list_1 = [5, 7, 2]\n",
        "list_2 = [\"a\", \"b\", \"c\"]\n",
        "for i in zip(list_1, list_2):\n",
        "    print(i)"
      ]
    },
    {
      "cell_type": "markdown",
      "metadata": {
        "id": "Rpdy33E70Aog"
      },
      "source": [
        "We can even \"unpack\" these tuples directly in the `for` loop:"
      ]
    },
    {
      "cell_type": "code",
      "execution_count": null,
      "metadata": {
        "id": "s7W423od0Aog",
        "outputId": "4b115215-0fa5-4dab-9f3d-25391e0aa10c"
      },
      "outputs": [
        {
          "name": "stdout",
          "output_type": "stream",
          "text": [
            "0 a\n",
            "1 b\n",
            "2 c\n"
          ]
        }
      ],
      "source": [
        "for i, j in zip(list_1, list_2):\n",
        "    print(i, j)"
      ]
    },
    {
      "cell_type": "markdown",
      "metadata": {
        "id": "tY8rEH0D0Aoh"
      },
      "source": [
        "`enumerate()` adds a counter to an iterable which we can use within the loop."
      ]
    },
    {
      "cell_type": "code",
      "execution_count": null,
      "metadata": {
        "id": "MJWxuZTJ0Aoh",
        "outputId": "180eb38a-bcb0-442b-9d98-3d2b94a447c3"
      },
      "outputs": [
        {
          "name": "stdout",
          "output_type": "stream",
          "text": [
            "(0, 'a')\n",
            "(1, 'b')\n",
            "(2, 'c')\n"
          ]
        }
      ],
      "source": [
        "for i in enumerate(list_2):\n",
        "    print(i)"
      ]
    },
    {
      "cell_type": "code",
      "execution_count": null,
      "metadata": {
        "id": "XbyoJ40F0Aoj",
        "outputId": "88aacd35-9930-4086-b236-8648cbeb058f"
      },
      "outputs": [
        {
          "name": "stdout",
          "output_type": "stream",
          "text": [
            "index 0, value a\n",
            "index 1, value b\n",
            "index 2, value c\n"
          ]
        }
      ],
      "source": [
        "for n, i in enumerate(list_2):\n",
        "    print(f\"index {n}, value {i}\")"
      ]
    },
    {
      "cell_type": "markdown",
      "metadata": {
        "id": "rt-LHIPG0Aok"
      },
      "source": [
        "We can loop through key-value pairs of a dictionary using `.items()`. The general syntax is `for key, value in dictionary.items()`."
      ]
    },
    {
      "cell_type": "code",
      "execution_count": null,
      "metadata": {
        "id": "d7G2x2Gk0Aol",
        "outputId": "e6907594-a054-4a91-82aa-d7f942a79ea8"
      },
      "outputs": [
        {
          "name": "stdout",
          "output_type": "stream",
          "text": [
            "Course 521, is awesome\n",
            "Course 551, is riveting\n",
            "Course 511, is naptime!\n"
          ]
        }
      ],
      "source": [
        "courses = {521 : \"awesome\",\n",
        "           551 : \"riveting\",\n",
        "           511 : \"naptime!\"}\n",
        "\n",
        "for key, value in courses.items():\n",
        "    print(f\"Course {key}, is {value}\")"
      ]
    },
    {
      "cell_type": "markdown",
      "metadata": {
        "id": "AID9Rp1_0Aom"
      },
      "source": [
        "We can even use `enumerate()` to do more complex un-packing:"
      ]
    },
    {
      "cell_type": "code",
      "execution_count": null,
      "metadata": {
        "id": "mBcYc3tm0Aom",
        "outputId": "ec8d6f30-ca63-4fd2-9cf4-0469b3d2aabf"
      },
      "outputs": [
        {
          "name": "stdout",
          "output_type": "stream",
          "text": [
            "Item 0: DSCI 521, is awesome\n",
            "Item 1: DSCI 551, is riveting\n",
            "Item 2: DSCI 511, is naptime!\n"
          ]
        }
      ],
      "source": [
        "for n, (course_num, description) in enumerate(courses.items()):\n",
        "    print(f\"Item {n}: DSCI {course_num}, is {description}\")"
      ]
    },
    {
      "cell_type": "markdown",
      "metadata": {
        "id": "AM1bAStl0Aon"
      },
      "source": [
        "## 2. `while` loops\n",
        "<hr>"
      ]
    },
    {
      "cell_type": "markdown",
      "metadata": {
        "id": "zpL-SsYR0Aoo"
      },
      "source": [
        "We can also use a [`while` loop](https://docs.python.org/3/reference/compound_stmts.html#while) to excute a block of code several times. But beware! If the conditional expression is always `True`, then you've got an infintite loop! "
      ]
    },
    {
      "cell_type": "markdown",
      "metadata": {
        "id": "e5qbhVyJ0Aoo"
      },
      "source": [
        "for : range(start, range, step)"
      ]
    },
    {
      "cell_type": "code",
      "execution_count": null,
      "metadata": {
        "id": "OwnDpEEU0Aoo",
        "outputId": "c3f6333f-057e-47be-b391-94bcb88c13b4"
      },
      "outputs": [
        {
          "name": "stdout",
          "output_type": "stream",
          "text": [
            "1\n",
            "2\n",
            "3\n",
            "4\n",
            "5\n",
            "outside the loop\n"
          ]
        }
      ],
      "source": [
        "i = 1\n",
        "while i <= 5:\n",
        "    print(i)\n",
        "    i = i+1\n",
        "print(\"outside the loop\")"
      ]
    },
    {
      "cell_type": "code",
      "execution_count": null,
      "metadata": {
        "id": "xAiZshG_0Aop",
        "outputId": "2f719644-ef0a-4181-d5eb-89906cceb83f"
      },
      "outputs": [
        {
          "name": "stdout",
          "output_type": "stream",
          "text": [
            "10\n",
            "9\n",
            "8\n",
            "7\n",
            "6\n",
            "5\n",
            "4\n",
            "3\n",
            "2\n",
            "1\n",
            "Blast off!\n"
          ]
        }
      ],
      "source": [
        "n = 10\n",
        "while n > 0:\n",
        "    print(n)\n",
        "    n = n -1\n",
        "\n",
        "print(\"Blast off!\")"
      ]
    },
    {
      "cell_type": "markdown",
      "metadata": {
        "id": "YxHY9Njd0Aop"
      },
      "source": [
        "Let's read the `while` statement above as if it were in English. It means, “While `n` is greater than 0, display the value of `n` and then decrement `n` by 1. When you get to 0, display the word Blast off!”\n",
        "\n",
        "For some loops, it's hard to tell when, or if, they will stop! Take a look at the [Collatz conjecture](https://en.wikipedia.org/wiki/Collatz_conjecture). The conjecture states that no matter what positive integer `n` we start with, the sequence will always eventually reach 1 - we just don't know how many iterations it will take."
      ]
    },
    {
      "cell_type": "code",
      "execution_count": null,
      "metadata": {
        "id": "1RL7JqHK0Aoq",
        "outputId": "63296d0c-d006-4e48-e1e5-f3ead06d3265"
      },
      "outputs": [
        {
          "name": "stdout",
          "output_type": "stream",
          "text": [
            "11\n",
            "34\n",
            "17\n",
            "52\n",
            "26\n",
            "13\n",
            "40\n",
            "20\n",
            "10\n",
            "5\n",
            "16\n",
            "8\n",
            "4\n",
            "2\n",
            "1\n"
          ]
        }
      ],
      "source": [
        "n = 11\n",
        "while n != 1:\n",
        "    print(int(n))\n",
        "    if n % 2 == 0: # n is even\n",
        "        n = n / 2\n",
        "    else: # n is odd\n",
        "        n = n * 3 + 1\n",
        "print(int(n))"
      ]
    },
    {
      "cell_type": "markdown",
      "metadata": {
        "id": "wAb6h9p00Aor"
      },
      "source": [
        "Hence, in some cases, you may want to force a `while` loop to stop based on some criteria, using the `break` keyword."
      ]
    },
    {
      "cell_type": "code",
      "execution_count": null,
      "metadata": {
        "id": "SOSwnNQy0Aor",
        "outputId": "9390a2b8-cf33-45b3-c474-054e48e35d2f"
      },
      "outputs": [
        {
          "name": "stdout",
          "output_type": "stream",
          "text": [
            "123\n",
            "370\n",
            "185\n",
            "556\n",
            "278\n",
            "139\n",
            "418\n",
            "209\n",
            "628\n",
            "314\n",
            "Ugh, too many iterations!\n"
          ]
        }
      ],
      "source": [
        "n = 123\n",
        "i = 0\n",
        "while n != 1:\n",
        "    print(int(n))\n",
        "    if n % 2 == 0: # n is even\n",
        "        n = n / 2\n",
        "    else: # n is odd\n",
        "        n = n * 3 + 1\n",
        "    i += 1\n",
        "    if i == 10:\n",
        "        print(f\"Ugh, too many iterations!\")\n",
        "        break"
      ]
    },
    {
      "cell_type": "markdown",
      "metadata": {
        "id": "u6Tgezjv0Aos"
      },
      "source": [
        "The `continue` keyword is similar to `break` but won't stop the loop. Instead, it just restarts the loop from the top."
      ]
    },
    {
      "cell_type": "code",
      "execution_count": null,
      "metadata": {
        "id": "OU56jSZt0Aos",
        "outputId": "5ecf5015-604e-4af5-effd-3606834212c7"
      },
      "outputs": [
        {
          "name": "stdout",
          "output_type": "stream",
          "text": [
            "10\n",
            "8\n",
            "6\n",
            "4\n",
            "2\n",
            "Blast off!\n"
          ]
        }
      ],
      "source": [
        "n = 10\n",
        "while n > 0:\n",
        "    if n % 2 != 0: # n is odd\n",
        "        n = n - 1\n",
        "        continue\n",
        "        break  # this line is never executed because continue restarts the loop from the top\n",
        "    print(n)\n",
        "    n = n - 1\n",
        "\n",
        "print(\"Blast off!\")"
      ]
    },
    {
      "cell_type": "markdown",
      "metadata": {
        "id": "okai2KS60Aos"
      },
      "source": [
        "## 3. Comprehensions\n",
        "<hr>"
      ]
    },
    {
      "cell_type": "markdown",
      "metadata": {
        "id": "iiGz1Lsp0Aot"
      },
      "source": [
        "Comprehensions allow us to build lists/tuples/sets/dictionaries in one convenient, compact line of code. I use these quite a bit! Below is a standard `for` loop you might use to iterate over an iterable and create a list:"
      ]
    },
    {
      "cell_type": "code",
      "execution_count": null,
      "metadata": {
        "id": "gRZqbLOJ0Aou",
        "outputId": "272977a3-51c6-422b-add9-778b07980e7f"
      },
      "outputs": [
        {
          "name": "stdout",
          "output_type": "stream",
          "text": [
            "['T', 'i', 'm', 'e', 't', 'o', 'l', 'e', 'a', 'r', 'n', '!']\n"
          ]
        }
      ],
      "source": [
        "subliminal = ['Tom', 'ingests', 'many', 'eggs', 'to', 'outrun', 'large', 'eagles', 'after', 'running', 'near', '!']\n",
        "first_letters = []\n",
        "for word in subliminal:\n",
        "    first_letters.append(word[0])\n",
        "print(first_letters)"
      ]
    },
    {
      "cell_type": "markdown",
      "metadata": {
        "id": "h0aDk2IM0Aov"
      },
      "source": [
        "List comprehension allows us to do this in one compact line:"
      ]
    },
    {
      "cell_type": "code",
      "execution_count": null,
      "metadata": {
        "jupyter": {
          "outputs_hidden": false
        },
        "id": "PXFhMRQw0Aov",
        "outputId": "44aa92a1-03ad-438b-fceb-a227bbd673f0"
      },
      "outputs": [
        {
          "data": {
            "text/plain": [
              "['T', 'i', 'm', 'e', 't', 'o', 'l', 'e', 'a', 'r', 'n', '!']"
            ]
          },
          "execution_count": 22,
          "metadata": {},
          "output_type": "execute_result"
        }
      ],
      "source": [
        "letters = [word[0] for word in subliminal]  # list comprehension\n",
        "letters"
      ]
    },
    {
      "cell_type": "markdown",
      "metadata": {
        "id": "pzRNxpmc0Aow"
      },
      "source": [
        "We can make things more complicated by doing multiple iteration or conditional iteration:"
      ]
    },
    {
      "cell_type": "code",
      "execution_count": null,
      "metadata": {
        "id": "_Z3JEX5w0Aox",
        "outputId": "b8f4c0bc-59b4-4f1f-e77a-4c905b7cee14"
      },
      "outputs": [
        {
          "data": {
            "text/plain": [
              "[(0, 0),\n",
              " (0, 1),\n",
              " (0, 2),\n",
              " (0, 3),\n",
              " (1, 0),\n",
              " (1, 1),\n",
              " (1, 2),\n",
              " (1, 3),\n",
              " (2, 0),\n",
              " (2, 1),\n",
              " (2, 2),\n",
              " (2, 3)]"
            ]
          },
          "execution_count": 23,
          "metadata": {},
          "output_type": "execute_result"
        }
      ],
      "source": [
        "[(i, j) for i in range(3) for j in range(4)]"
      ]
    },
    {
      "cell_type": "code",
      "execution_count": null,
      "metadata": {
        "id": "fYvIcZcG0Aox",
        "outputId": "e927e136-5527-47e9-9c88-7285cf4e7142"
      },
      "outputs": [
        {
          "data": {
            "text/plain": [
              "[0, 2, 4, 6, 8, 10]"
            ]
          },
          "execution_count": 24,
          "metadata": {},
          "output_type": "execute_result"
        }
      ],
      "source": [
        "[i for i in range(11) if i % 2 == 0]  # condition the iterator, select only even numbers"
      ]
    },
    {
      "cell_type": "code",
      "execution_count": null,
      "metadata": {
        "id": "LFXZOtVw0Aoy",
        "outputId": "6b735c25-2f3d-42be-937e-417f843cd9ee"
      },
      "outputs": [
        {
          "data": {
            "text/plain": [
              "[0, -1, 2, -3, 4, -5, 6, -7, 8, -9, 10]"
            ]
          },
          "execution_count": 25,
          "metadata": {},
          "output_type": "execute_result"
        }
      ],
      "source": [
        "[-i if i % 2 else i for i in range(11)]  # condition the value, -ve odd and +ve even numbers"
      ]
    },
    {
      "cell_type": "markdown",
      "metadata": {
        "id": "JDDCZuGP0Aoy"
      },
      "source": [
        "There is also set comprehension:"
      ]
    },
    {
      "cell_type": "code",
      "execution_count": null,
      "metadata": {
        "id": "DJWwSzfx0Aoy",
        "outputId": "a7d9780f-d7ab-46a6-bb77-8421106539da"
      },
      "outputs": [
        {
          "data": {
            "text/plain": [
              "{'e', 'm', 'o'}"
            ]
          },
          "execution_count": 27,
          "metadata": {},
          "output_type": "execute_result"
        }
      ],
      "source": [
        "words = ['hello', 'goodbye', 'the', 'antidisestablishmentarianism']\n",
        "y = {word[-1] for word in words}  # set comprehension\n",
        "y  # only has 3 elements because a set contains only unique items and there would have been two e's"
      ]
    },
    {
      "cell_type": "markdown",
      "metadata": {
        "id": "uWkCF-AC0Aoz"
      },
      "source": [
        "Dictionary comprehension:"
      ]
    },
    {
      "cell_type": "code",
      "execution_count": null,
      "metadata": {
        "jupyter": {
          "outputs_hidden": false
        },
        "id": "l5zjoTT70Aoz",
        "outputId": "3db88aff-bb60-4f6b-d872-e5a32cf1bf47"
      },
      "outputs": [
        {
          "data": {
            "text/plain": [
              "{'hello': 5, 'goodbye': 7, 'the': 3, 'antidisestablishmentarianism': 28}"
            ]
          },
          "execution_count": 28,
          "metadata": {},
          "output_type": "execute_result"
        }
      ],
      "source": [
        "word_lengths = {word:len(word) for word in words} # dictionary comprehension\n",
        "word_lengths"
      ]
    },
    {
      "cell_type": "markdown",
      "metadata": {
        "id": "RVXYx1G10Aoz"
      },
      "source": [
        "Tuple comprehension doesn't work as you might expect... We get a \"generator\" instead (more on that later)."
      ]
    },
    {
      "cell_type": "code",
      "execution_count": null,
      "metadata": {
        "id": "K9RGbpUK0Ao0",
        "outputId": "06f24701-ff52-433b-fbe4-4821815163e9"
      },
      "outputs": [
        {
          "name": "stdout",
          "output_type": "stream",
          "text": [
            "<generator object <genexpr> at 0x15e469c50>\n"
          ]
        }
      ],
      "source": [
        "y = (word[-1] for word in words)  # this is NOT a tuple comprehension - more on generators later\n",
        "print(y)"
      ]
    },
    {
      "cell_type": "markdown",
      "metadata": {
        "id": "pyYSDHuN0Ao0"
      },
      "source": [
        "## 4. `try` / `except`\n",
        "<hr>"
      ]
    },
    {
      "cell_type": "markdown",
      "metadata": {
        "id": "TIb1rwwd0Ao0"
      },
      "source": [
        "![](img/chapter2/bsod.jpg)"
      ]
    },
    {
      "cell_type": "markdown",
      "metadata": {
        "id": "_Y3cIUpr0Ao1"
      },
      "source": [
        "If something goes wrong, we don't want our code to crash - we want it to **fail gracefully**. In Python, this can be accomplished using `try`/`except`. Here is a basic example:"
      ]
    },
    {
      "cell_type": "code",
      "execution_count": null,
      "metadata": {
        "tags": [
          "raises-exception"
        ],
        "id": "LdRGWn600Ao1",
        "outputId": "290f5e03-3f1e-408d-fcfe-281db9be5c88"
      },
      "outputs": [
        {
          "ename": "NameError",
          "evalue": "name 'this_variable_does_not_exist' is not defined",
          "output_type": "error",
          "traceback": [
            "\u001b[0;31m---------------------------------------------------------------------------\u001b[0m",
            "\u001b[0;31mNameError\u001b[0m                                 Traceback (most recent call last)",
            "\u001b[0;32m<ipython-input-30-dd878f68d557>\u001b[0m in \u001b[0;36m<module>\u001b[0;34m\u001b[0m\n\u001b[0;32m----> 1\u001b[0;31m \u001b[0mthis_variable_does_not_exist\u001b[0m\u001b[0;34m\u001b[0m\u001b[0;34m\u001b[0m\u001b[0m\n\u001b[0m\u001b[1;32m      2\u001b[0m \u001b[0mprint\u001b[0m\u001b[0;34m(\u001b[0m\u001b[0;34m\"Another line\"\u001b[0m\u001b[0;34m)\u001b[0m  \u001b[0;31m# code fails before getting to this line\u001b[0m\u001b[0;34m\u001b[0m\u001b[0;34m\u001b[0m\u001b[0m\n",
            "\u001b[0;31mNameError\u001b[0m: name 'this_variable_does_not_exist' is not defined"
          ]
        }
      ],
      "source": [
        "this_variable_does_not_exist\n",
        "print(\"Another line\")  # code fails before getting to this line"
      ]
    },
    {
      "cell_type": "code",
      "execution_count": null,
      "metadata": {
        "id": "4rSrN_6_0Ao1",
        "outputId": "0ae26ea9-00b6-4697-e591-6542590f7e09"
      },
      "outputs": [
        {
          "name": "stdout",
          "output_type": "stream",
          "text": [
            "You did something bad! But I won't raise an error.\n",
            "Another line\n"
          ]
        }
      ],
      "source": [
        "try:\n",
        "    this_variable_does_not_exist\n",
        "except:\n",
        "    pass # do nothing\n",
        "    print(\"You did something bad! But I won't raise an error.\") # print something\n",
        "print(\"Another line\")"
      ]
    },
    {
      "cell_type": "markdown",
      "metadata": {
        "id": "-HztW78s0Ao2"
      },
      "source": [
        "Python tries to execute the code in the `try` block. If an error is encountered, we \"catch\" this in the `except` block (also called `try`/`catch` in other languages). There are many different error types, or **exceptions** - we saw `NameError` above. "
      ]
    },
    {
      "cell_type": "code",
      "execution_count": null,
      "metadata": {
        "tags": [
          "raises-exception"
        ],
        "id": "evNvj1iB0Ao2",
        "outputId": "193f450a-fdb7-4b57-e7da-94d82eead438"
      },
      "outputs": [
        {
          "ename": "ZeroDivisionError",
          "evalue": "division by zero",
          "output_type": "error",
          "traceback": [
            "\u001b[0;31m---------------------------------------------------------------------------\u001b[0m",
            "\u001b[0;31mZeroDivisionError\u001b[0m                         Traceback (most recent call last)",
            "\u001b[0;32m<ipython-input-32-9866726f0353>\u001b[0m in \u001b[0;36m<module>\u001b[0;34m\u001b[0m\n\u001b[0;32m----> 1\u001b[0;31m \u001b[0;36m5\u001b[0m\u001b[0;34m/\u001b[0m\u001b[0;36m0\u001b[0m  \u001b[0;31m# ZeroDivisionError\u001b[0m\u001b[0;34m\u001b[0m\u001b[0;34m\u001b[0m\u001b[0m\n\u001b[0m",
            "\u001b[0;31mZeroDivisionError\u001b[0m: division by zero"
          ]
        }
      ],
      "source": [
        "5/0  # ZeroDivisionError"
      ]
    },
    {
      "cell_type": "code",
      "execution_count": null,
      "metadata": {
        "tags": [
          "raises-exception"
        ],
        "id": "jOyf7sxz0Ao2",
        "outputId": "1d17b0f8-c981-41ca-d04d-dc32badaddb5"
      },
      "outputs": [
        {
          "ename": "IndexError",
          "evalue": "list index out of range",
          "output_type": "error",
          "traceback": [
            "\u001b[0;31m---------------------------------------------------------------------------\u001b[0m",
            "\u001b[0;31mIndexError\u001b[0m                                Traceback (most recent call last)",
            "\u001b[0;32m<ipython-input-33-8f0c4b3b2ce1>\u001b[0m in \u001b[0;36m<module>\u001b[0;34m\u001b[0m\n\u001b[1;32m      1\u001b[0m \u001b[0mmy_list\u001b[0m \u001b[0;34m=\u001b[0m \u001b[0;34m[\u001b[0m\u001b[0;36m1\u001b[0m\u001b[0;34m,\u001b[0m\u001b[0;36m2\u001b[0m\u001b[0;34m,\u001b[0m\u001b[0;36m3\u001b[0m\u001b[0;34m]\u001b[0m\u001b[0;34m\u001b[0m\u001b[0;34m\u001b[0m\u001b[0m\n\u001b[0;32m----> 2\u001b[0;31m \u001b[0mmy_list\u001b[0m\u001b[0;34m[\u001b[0m\u001b[0;36m5\u001b[0m\u001b[0;34m]\u001b[0m  \u001b[0;31m# IndexError\u001b[0m\u001b[0;34m\u001b[0m\u001b[0;34m\u001b[0m\u001b[0m\n\u001b[0m",
            "\u001b[0;31mIndexError\u001b[0m: list index out of range"
          ]
        }
      ],
      "source": [
        "my_list = [1,2,3]\n",
        "my_list[5]  # IndexError"
      ]
    },
    {
      "cell_type": "code",
      "execution_count": null,
      "metadata": {
        "tags": [
          "raises-exception"
        ],
        "id": "6QlN-sGf0Ao3",
        "outputId": "2be70c02-afe8-45a7-e6f0-594fa8f9182d"
      },
      "outputs": [
        {
          "ename": "TypeError",
          "evalue": "'tuple' object does not support item assignment",
          "output_type": "error",
          "traceback": [
            "\u001b[0;31m---------------------------------------------------------------------------\u001b[0m",
            "\u001b[0;31mTypeError\u001b[0m                                 Traceback (most recent call last)",
            "\u001b[0;32m<ipython-input-34-90cd0bd9ddec>\u001b[0m in \u001b[0;36m<module>\u001b[0;34m\u001b[0m\n\u001b[1;32m      1\u001b[0m \u001b[0mmy_tuple\u001b[0m \u001b[0;34m=\u001b[0m \u001b[0;34m(\u001b[0m\u001b[0;36m1\u001b[0m\u001b[0;34m,\u001b[0m\u001b[0;36m2\u001b[0m\u001b[0;34m,\u001b[0m\u001b[0;36m3\u001b[0m\u001b[0;34m)\u001b[0m\u001b[0;34m\u001b[0m\u001b[0;34m\u001b[0m\u001b[0m\n\u001b[0;32m----> 2\u001b[0;31m \u001b[0mmy_tuple\u001b[0m\u001b[0;34m[\u001b[0m\u001b[0;36m0\u001b[0m\u001b[0;34m]\u001b[0m \u001b[0;34m=\u001b[0m \u001b[0;36m0\u001b[0m  \u001b[0;31m# TypeError\u001b[0m\u001b[0;34m\u001b[0m\u001b[0;34m\u001b[0m\u001b[0m\n\u001b[0m",
            "\u001b[0;31mTypeError\u001b[0m: 'tuple' object does not support item assignment"
          ]
        }
      ],
      "source": [
        "my_tuple = (1,2,3)\n",
        "my_tuple[0] = 0  # TypeError"
      ]
    },
    {
      "cell_type": "markdown",
      "metadata": {
        "id": "vNGAMt_N0Ao3"
      },
      "source": [
        "Ok, so there are apparently a bunch of different errors one could run into. With `try`/`except` you can also catch the exception itself:"
      ]
    },
    {
      "cell_type": "code",
      "execution_count": null,
      "metadata": {
        "id": "B7Cjuf4l0Ao3",
        "outputId": "6d28979a-d1a0-46b8-8214-5a918cd50d9e"
      },
      "outputs": [
        {
          "name": "stdout",
          "output_type": "stream",
          "text": [
            "You did something bad!\n",
            "name 'this_variable_does_not_exist' is not defined\n",
            "<class 'NameError'>\n"
          ]
        }
      ],
      "source": [
        "try:\n",
        "    this_variable_does_not_exist\n",
        "except Exception as ex:\n",
        "    print(\"You did something bad!\")\n",
        "    print(ex)\n",
        "    print(type(ex))"
      ]
    },
    {
      "cell_type": "markdown",
      "metadata": {
        "id": "bYyMZs7I0Ao4"
      },
      "source": [
        "In the above, we caught the exception and assigned it to the variable `ex` so that we could print it out. This is useful because you can see what the error message would have been, without crashing your program. You can also catch specific exceptions types. This is typically the recommended way to catch errors, you want to be specific in catching your error so you know exactly where and why your code failed."
      ]
    },
    {
      "cell_type": "code",
      "execution_count": null,
      "metadata": {
        "id": "tTYyOUx_0Ao4",
        "outputId": "32a4d61c-5b94-4ce3-8386-91f5900bcfc4"
      },
      "outputs": [
        {
          "name": "stdout",
          "output_type": "stream",
          "text": [
            "You made a name error!\n"
          ]
        }
      ],
      "source": [
        "try:\n",
        "    this_variable_does_not_exist  # name error\n",
        "#     (1, 2, 3)[0] = 1  # type error\n",
        "#     5/0  # ZeroDivisionError\n",
        "except TypeError:\n",
        "    print(\"You made a type error!\")\n",
        "except NameError:\n",
        "    print(\"You made a name error!\")\n",
        "except:\n",
        "    print(\"You made some other sort of error\")"
      ]
    },
    {
      "cell_type": "markdown",
      "metadata": {
        "id": "bBXhs2X_0Ao4"
      },
      "source": [
        "The final `except` would trigger if the error is none of the above types, so this sort of has an `if`/`elif`/`else` feel to it. There is also an optional `else` and `finally` keyword (which I almost never used), but you can read more about [here](https://docs.python.org/3/tutorial/errors.html)."
      ]
    },
    {
      "cell_type": "code",
      "execution_count": null,
      "metadata": {
        "id": "xmCdUueW0Ao5",
        "outputId": "cb489d5b-6025-4df9-b907-9f7a26e67248"
      },
      "outputs": [
        {
          "name": "stdout",
          "output_type": "stream",
          "text": [
            "The variable does not exist!\n",
            "I'm printing anyway!\n"
          ]
        }
      ],
      "source": [
        "try:\n",
        "    this_variable_does_not_exist\n",
        "except:\n",
        "    print(\"The variable does not exist!\")\n",
        "finally:\n",
        "    print(\"I'm printing anyway!\")"
      ]
    },
    {
      "cell_type": "markdown",
      "metadata": {
        "id": "zmrTKZQo0Ao5"
      },
      "source": [
        "We can also write code that raises an exception on purpose, using `raise`:"
      ]
    },
    {
      "cell_type": "code",
      "execution_count": null,
      "metadata": {
        "id": "Yz8LIIkR0Ao5"
      },
      "outputs": [],
      "source": [
        "def add_one(x):  # we'll get to functions in the next section\n",
        "    return x + 1"
      ]
    },
    {
      "cell_type": "code",
      "execution_count": null,
      "metadata": {
        "tags": [
          "raises-exception"
        ],
        "id": "JRCFjb490Ao6",
        "outputId": "9abe0b6a-a2d9-4ae1-f46a-83bc920c7a60"
      },
      "outputs": [
        {
          "ename": "TypeError",
          "evalue": "can only concatenate str (not \"int\") to str",
          "output_type": "error",
          "traceback": [
            "\u001b[0;31m---------------------------------------------------------------------------\u001b[0m",
            "\u001b[0;31mTypeError\u001b[0m                                 Traceback (most recent call last)",
            "\u001b[0;32m<ipython-input-39-96e0142692a3>\u001b[0m in \u001b[0;36m<module>\u001b[0;34m\u001b[0m\n\u001b[0;32m----> 1\u001b[0;31m \u001b[0madd_one\u001b[0m\u001b[0;34m(\u001b[0m\u001b[0;34m\"blah\"\u001b[0m\u001b[0;34m)\u001b[0m\u001b[0;34m\u001b[0m\u001b[0;34m\u001b[0m\u001b[0m\n\u001b[0m",
            "\u001b[0;32m<ipython-input-38-eabf290fc405>\u001b[0m in \u001b[0;36madd_one\u001b[0;34m(x)\u001b[0m\n\u001b[1;32m      1\u001b[0m \u001b[0;32mdef\u001b[0m \u001b[0madd_one\u001b[0m\u001b[0;34m(\u001b[0m\u001b[0mx\u001b[0m\u001b[0;34m)\u001b[0m\u001b[0;34m:\u001b[0m  \u001b[0;31m# we'll get to functions in the next section\u001b[0m\u001b[0;34m\u001b[0m\u001b[0;34m\u001b[0m\u001b[0m\n\u001b[0;32m----> 2\u001b[0;31m     \u001b[0;32mreturn\u001b[0m \u001b[0mx\u001b[0m \u001b[0;34m+\u001b[0m \u001b[0;36m1\u001b[0m\u001b[0;34m\u001b[0m\u001b[0;34m\u001b[0m\u001b[0m\n\u001b[0m",
            "\u001b[0;31mTypeError\u001b[0m: can only concatenate str (not \"int\") to str"
          ]
        }
      ],
      "source": [
        "add_one(\"blah\")"
      ]
    },
    {
      "cell_type": "code",
      "execution_count": null,
      "metadata": {
        "id": "OfkCOoVM0Ao6"
      },
      "outputs": [],
      "source": [
        "def add_one(x):\n",
        "    if not isinstance(x, float) and not isinstance(x, int):\n",
        "        raise TypeError(f\"Sorry, x must be numeric, you entered a {type(x)}.\")\n",
        "        \n",
        "    return x + 1"
      ]
    },
    {
      "cell_type": "code",
      "execution_count": null,
      "metadata": {
        "tags": [
          "raises-exception"
        ],
        "id": "1NIR4ER00Ao6",
        "outputId": "dd46c524-5603-4271-db4a-2a37ec1aaf73"
      },
      "outputs": [
        {
          "ename": "TypeError",
          "evalue": "Sorry, x must be numeric, you entered a <class 'str'>.",
          "output_type": "error",
          "traceback": [
            "\u001b[0;31m---------------------------------------------------------------------------\u001b[0m",
            "\u001b[0;31mTypeError\u001b[0m                                 Traceback (most recent call last)",
            "\u001b[0;32m<ipython-input-41-96e0142692a3>\u001b[0m in \u001b[0;36m<module>\u001b[0;34m\u001b[0m\n\u001b[0;32m----> 1\u001b[0;31m \u001b[0madd_one\u001b[0m\u001b[0;34m(\u001b[0m\u001b[0;34m\"blah\"\u001b[0m\u001b[0;34m)\u001b[0m\u001b[0;34m\u001b[0m\u001b[0;34m\u001b[0m\u001b[0m\n\u001b[0m",
            "\u001b[0;32m<ipython-input-40-3a3a8b564774>\u001b[0m in \u001b[0;36madd_one\u001b[0;34m(x)\u001b[0m\n\u001b[1;32m      1\u001b[0m \u001b[0;32mdef\u001b[0m \u001b[0madd_one\u001b[0m\u001b[0;34m(\u001b[0m\u001b[0mx\u001b[0m\u001b[0;34m)\u001b[0m\u001b[0;34m:\u001b[0m\u001b[0;34m\u001b[0m\u001b[0;34m\u001b[0m\u001b[0m\n\u001b[1;32m      2\u001b[0m     \u001b[0;32mif\u001b[0m \u001b[0;32mnot\u001b[0m \u001b[0misinstance\u001b[0m\u001b[0;34m(\u001b[0m\u001b[0mx\u001b[0m\u001b[0;34m,\u001b[0m \u001b[0mfloat\u001b[0m\u001b[0;34m)\u001b[0m \u001b[0;32mand\u001b[0m \u001b[0;32mnot\u001b[0m \u001b[0misinstance\u001b[0m\u001b[0;34m(\u001b[0m\u001b[0mx\u001b[0m\u001b[0;34m,\u001b[0m \u001b[0mint\u001b[0m\u001b[0;34m)\u001b[0m\u001b[0;34m:\u001b[0m\u001b[0;34m\u001b[0m\u001b[0;34m\u001b[0m\u001b[0m\n\u001b[0;32m----> 3\u001b[0;31m         \u001b[0;32mraise\u001b[0m \u001b[0mTypeError\u001b[0m\u001b[0;34m(\u001b[0m\u001b[0;34mf\"Sorry, x must be numeric, you entered a {type(x)}.\"\u001b[0m\u001b[0;34m)\u001b[0m\u001b[0;34m\u001b[0m\u001b[0;34m\u001b[0m\u001b[0m\n\u001b[0m\u001b[1;32m      4\u001b[0m \u001b[0;34m\u001b[0m\u001b[0m\n\u001b[1;32m      5\u001b[0m     \u001b[0;32mreturn\u001b[0m \u001b[0mx\u001b[0m \u001b[0;34m+\u001b[0m \u001b[0;36m1\u001b[0m\u001b[0;34m\u001b[0m\u001b[0;34m\u001b[0m\u001b[0m\n",
            "\u001b[0;31mTypeError\u001b[0m: Sorry, x must be numeric, you entered a <class 'str'>."
          ]
        }
      ],
      "source": [
        "add_one(\"blah\")"
      ]
    },
    {
      "cell_type": "markdown",
      "metadata": {
        "id": "TtnKyBMJ0Ao7"
      },
      "source": [
        "This is useful when your function is complicated and would fail in a complicated way, with a weird error message. You can make the cause of the error much clearer to the _user_ of the function. If you do this, you should ideally describe these exceptions in the function documentation, so a user knows what to expect if they call your function.\n",
        "\n",
        "Finally, we can even define our own exception types. We do this by inheriting from the `Exception` class - we'll explore classes and inheritance more in the next chapter!"
      ]
    },
    {
      "cell_type": "code",
      "execution_count": null,
      "metadata": {
        "id": "7YpayVC80Ao7"
      },
      "outputs": [],
      "source": [
        "class CustomAdditionError(Exception):\n",
        "    pass"
      ]
    },
    {
      "cell_type": "code",
      "execution_count": null,
      "metadata": {
        "id": "sxG-ebjN0Ao7"
      },
      "outputs": [],
      "source": [
        "def add_one(x):\n",
        "    if not isinstance(x, float) and not isinstance(x, int):\n",
        "        raise CustomAdditionError(\"Sorry, x must be numeric\")\n",
        "        \n",
        "    return x + 1"
      ]
    },
    {
      "cell_type": "code",
      "execution_count": null,
      "metadata": {
        "tags": [
          "raises-exception"
        ],
        "id": "T_RHO1gS0Ao8",
        "outputId": "ea301038-d49d-48bf-ecea-1a276d31f59d"
      },
      "outputs": [
        {
          "ename": "CustomAdditionError",
          "evalue": "Sorry, x must be numeric",
          "output_type": "error",
          "traceback": [
            "\u001b[0;31m---------------------------------------------------------------------------\u001b[0m",
            "\u001b[0;31mCustomAdditionError\u001b[0m                       Traceback (most recent call last)",
            "\u001b[0;32m<ipython-input-3-96e0142692a3>\u001b[0m in \u001b[0;36m<module>\u001b[0;34m\u001b[0m\n\u001b[0;32m----> 1\u001b[0;31m \u001b[0madd_one\u001b[0m\u001b[0;34m(\u001b[0m\u001b[0;34m\"blah\"\u001b[0m\u001b[0;34m)\u001b[0m\u001b[0;34m\u001b[0m\u001b[0;34m\u001b[0m\u001b[0m\n\u001b[0m",
            "\u001b[0;32m<ipython-input-2-25db54189b4f>\u001b[0m in \u001b[0;36madd_one\u001b[0;34m(x)\u001b[0m\n\u001b[1;32m      1\u001b[0m \u001b[0;32mdef\u001b[0m \u001b[0madd_one\u001b[0m\u001b[0;34m(\u001b[0m\u001b[0mx\u001b[0m\u001b[0;34m)\u001b[0m\u001b[0;34m:\u001b[0m\u001b[0;34m\u001b[0m\u001b[0;34m\u001b[0m\u001b[0m\n\u001b[1;32m      2\u001b[0m     \u001b[0;32mif\u001b[0m \u001b[0;32mnot\u001b[0m \u001b[0misinstance\u001b[0m\u001b[0;34m(\u001b[0m\u001b[0mx\u001b[0m\u001b[0;34m,\u001b[0m \u001b[0mfloat\u001b[0m\u001b[0;34m)\u001b[0m \u001b[0;32mand\u001b[0m \u001b[0;32mnot\u001b[0m \u001b[0misinstance\u001b[0m\u001b[0;34m(\u001b[0m\u001b[0mx\u001b[0m\u001b[0;34m,\u001b[0m \u001b[0mint\u001b[0m\u001b[0;34m)\u001b[0m\u001b[0;34m:\u001b[0m\u001b[0;34m\u001b[0m\u001b[0;34m\u001b[0m\u001b[0m\n\u001b[0;32m----> 3\u001b[0;31m         \u001b[0;32mraise\u001b[0m \u001b[0mCustomAdditionError\u001b[0m\u001b[0;34m(\u001b[0m\u001b[0;34m\"Sorry, x must be numeric\"\u001b[0m\u001b[0;34m)\u001b[0m\u001b[0;34m\u001b[0m\u001b[0;34m\u001b[0m\u001b[0m\n\u001b[0m\u001b[1;32m      4\u001b[0m \u001b[0;34m\u001b[0m\u001b[0m\n\u001b[1;32m      5\u001b[0m     \u001b[0;32mreturn\u001b[0m \u001b[0mx\u001b[0m \u001b[0;34m+\u001b[0m \u001b[0;36m1\u001b[0m\u001b[0;34m\u001b[0m\u001b[0;34m\u001b[0m\u001b[0m\n",
            "\u001b[0;31mCustomAdditionError\u001b[0m: Sorry, x must be numeric"
          ]
        }
      ],
      "source": [
        "add_one(\"blah\")"
      ]
    },
    {
      "cell_type": "markdown",
      "metadata": {
        "id": "Q1mGGYId0Ao8"
      },
      "source": [
        "## 5. Functions\n",
        "<hr>"
      ]
    },
    {
      "cell_type": "markdown",
      "metadata": {
        "id": "4xdxTVXy0Ao8"
      },
      "source": [
        "A [function](https://docs.python.org/3/tutorial/controlflow.html#defining-functions) is a reusable piece of code that can accept input parameters, also known as \"arguments\". For example, let's define a function called `square` which takes one input parameter `n` and returns the square `n**2`:"
      ]
    },
    {
      "cell_type": "code",
      "execution_count": null,
      "metadata": {
        "id": "daNkd4Z-0Ao9"
      },
      "outputs": [],
      "source": [
        "def square(n):\n",
        "    n_squared = n**2\n",
        "    return n_squared"
      ]
    },
    {
      "cell_type": "code",
      "execution_count": null,
      "metadata": {
        "id": "38JhM-pn0Ao9",
        "outputId": "b749a626-7dc0-4126-899d-de895f228db4"
      },
      "outputs": [
        {
          "data": {
            "text/plain": [
              "4"
            ]
          },
          "execution_count": 5,
          "metadata": {},
          "output_type": "execute_result"
        }
      ],
      "source": [
        "square(2)"
      ]
    },
    {
      "cell_type": "code",
      "execution_count": null,
      "metadata": {
        "id": "dhxG4j3A0Ao9",
        "outputId": "3a13dfc5-fdfd-43b4-8ef6-d5d0a97032fd"
      },
      "outputs": [
        {
          "data": {
            "text/plain": [
              "10000"
            ]
          },
          "execution_count": 6,
          "metadata": {},
          "output_type": "execute_result"
        }
      ],
      "source": [
        "square(100)"
      ]
    },
    {
      "cell_type": "code",
      "execution_count": null,
      "metadata": {
        "id": "dnzUha-T0Ao-",
        "outputId": "9e4abf40-09b6-4adc-e91c-324957329736"
      },
      "outputs": [
        {
          "data": {
            "text/plain": [
              "152399025"
            ]
          },
          "execution_count": 7,
          "metadata": {},
          "output_type": "execute_result"
        }
      ],
      "source": [
        "square(12345)"
      ]
    },
    {
      "cell_type": "markdown",
      "metadata": {
        "id": "TaS4379M0Ao_"
      },
      "source": [
        "Functions begin with the `def` keyword, then the function name, arguments in parentheses, and then a colon (`:`). The code executed by the function is defined by indentation. The output or \"return\" value of the function is specified using the `return` keyword."
      ]
    },
    {
      "cell_type": "markdown",
      "metadata": {
        "id": "CHvzFOZO0Ao_"
      },
      "source": [
        "### Side Effects & Local Variables\n",
        "\n",
        "When you create a variable inside a function, it is local, which means that it only exists inside the function. For example:"
      ]
    },
    {
      "cell_type": "code",
      "execution_count": null,
      "metadata": {
        "id": "DOyV2Jlq0ApA"
      },
      "outputs": [],
      "source": [
        "def cat_string(str1, str2):\n",
        "    string = str1 + str2\n",
        "    return string"
      ]
    },
    {
      "cell_type": "code",
      "execution_count": null,
      "metadata": {
        "id": "pv7LwJPs0ApA",
        "outputId": "75fc2b7f-0c13-4ef6-c720-be14b7553af6"
      },
      "outputs": [
        {
          "data": {
            "text/plain": [
              "'My name is Tom'"
            ]
          },
          "execution_count": 9,
          "metadata": {},
          "output_type": "execute_result"
        }
      ],
      "source": [
        "cat_string('My name is ', 'Tom')"
      ]
    },
    {
      "cell_type": "code",
      "execution_count": null,
      "metadata": {
        "tags": [
          "raises-exception"
        ],
        "id": "u7lMkYxI0ApB",
        "outputId": "2ef9297e-dc69-45eb-9b5f-f4594a924180"
      },
      "outputs": [
        {
          "ename": "NameError",
          "evalue": "name 'string' is not defined",
          "output_type": "error",
          "traceback": [
            "\u001b[0;31m---------------------------------------------------------------------------\u001b[0m",
            "\u001b[0;31mNameError\u001b[0m                                 Traceback (most recent call last)",
            "\u001b[0;32m<ipython-input-10-edbf08a562d5>\u001b[0m in \u001b[0;36m<module>\u001b[0;34m\u001b[0m\n\u001b[0;32m----> 1\u001b[0;31m \u001b[0mstring\u001b[0m\u001b[0;34m\u001b[0m\u001b[0;34m\u001b[0m\u001b[0m\n\u001b[0m",
            "\u001b[0;31mNameError\u001b[0m: name 'string' is not defined"
          ]
        }
      ],
      "source": [
        "string"
      ]
    },
    {
      "cell_type": "markdown",
      "metadata": {
        "id": "Olq2t92V0ApC"
      },
      "source": [
        "If a function changes the variables passed into it, then it is said to have **side effects**. For example:"
      ]
    },
    {
      "cell_type": "code",
      "execution_count": null,
      "metadata": {
        "id": "HAoIb3AS0ApC"
      },
      "outputs": [],
      "source": [
        "def silly_sum(my_list):\n",
        "    my_list.append(0)\n",
        "    return sum(my_list)"
      ]
    },
    {
      "cell_type": "code",
      "execution_count": null,
      "metadata": {
        "id": "bNky3djd0ApD",
        "outputId": "4045fc9d-bf1f-4e2e-fe6c-3abbe83c0502"
      },
      "outputs": [
        {
          "data": {
            "text/plain": [
              "10"
            ]
          },
          "execution_count": 12,
          "metadata": {},
          "output_type": "execute_result"
        }
      ],
      "source": [
        "l = [1, 2, 3, 4]\n",
        "out = silly_sum(l)\n",
        "out"
      ]
    },
    {
      "cell_type": "markdown",
      "metadata": {
        "id": "QxZUyBKo0ApD"
      },
      "source": [
        "The above looks like what we wanted? But wait... it changed our `l` object..."
      ]
    },
    {
      "cell_type": "code",
      "execution_count": null,
      "metadata": {
        "id": "LmcKwZ9C0ApE",
        "outputId": "ff351f44-f246-47c1-e4f1-b58c648208ad"
      },
      "outputs": [
        {
          "data": {
            "text/plain": [
              "[1, 2, 3, 4, 0]"
            ]
          },
          "execution_count": 13,
          "metadata": {},
          "output_type": "execute_result"
        }
      ],
      "source": [
        "l"
      ]
    },
    {
      "cell_type": "markdown",
      "metadata": {
        "id": "cwisgHg00ApE"
      },
      "source": [
        "If your function has side effects like this, you must mention it in the documentation (which we'll touch on later in this chapter)."
      ]
    },
    {
      "cell_type": "markdown",
      "metadata": {
        "id": "2Feg_ojB0ApE"
      },
      "source": [
        "### Null Return Type\n",
        "\n",
        "If you do not specify a return value, the function returns `None` when it terminates:"
      ]
    },
    {
      "cell_type": "code",
      "execution_count": null,
      "metadata": {
        "id": "tcSgnCAW0ApF",
        "outputId": "3d3d043f-ecd0-4e09-e4a9-c43af17e0dc5"
      },
      "outputs": [
        {
          "name": "stdout",
          "output_type": "stream",
          "text": [
            "None\n"
          ]
        }
      ],
      "source": [
        "def f(x):\n",
        "    x + 1 # no return!\n",
        "    if x == 999:\n",
        "        return\n",
        "print(f(0))"
      ]
    },
    {
      "cell_type": "markdown",
      "metadata": {
        "id": "5GgtnGG_0ApF"
      },
      "source": [
        "### Optional & Required Arguments\n",
        "\n",
        "Sometimes it is convenient to have _default values_ for some arguments in a function. Because they have default values, these arguments are optional, and are hence called \"optional arguments\". For example:"
      ]
    },
    {
      "cell_type": "code",
      "execution_count": null,
      "metadata": {
        "id": "Gh3-34PW0ApG"
      },
      "outputs": [],
      "source": [
        "def repeat_string(s, n=2):\n",
        "    return s*n"
      ]
    },
    {
      "cell_type": "code",
      "execution_count": null,
      "metadata": {
        "id": "uokuzYcz0ApG",
        "outputId": "85012c93-7de5-460a-9e4b-c4f49dd90e8d"
      },
      "outputs": [
        {
          "data": {
            "text/plain": [
              "'mdsmds'"
            ]
          },
          "execution_count": 16,
          "metadata": {},
          "output_type": "execute_result"
        }
      ],
      "source": [
        "repeat_string(\"mds\", 2)"
      ]
    },
    {
      "cell_type": "code",
      "execution_count": null,
      "metadata": {
        "id": "DkCfEkNu0ApG",
        "outputId": "02366bcd-ee25-4d9f-f95e-5a1b8feb2909"
      },
      "outputs": [
        {
          "data": {
            "text/plain": [
              "'mdsmdsmdsmdsmds'"
            ]
          },
          "execution_count": 17,
          "metadata": {},
          "output_type": "execute_result"
        }
      ],
      "source": [
        "repeat_string(\"mds\", 5)"
      ]
    },
    {
      "cell_type": "code",
      "execution_count": null,
      "metadata": {
        "id": "2l3POz5s0ApH",
        "outputId": "021419ef-f39c-431d-f7c7-052615f5dc65"
      },
      "outputs": [
        {
          "data": {
            "text/plain": [
              "'mdsmds'"
            ]
          },
          "execution_count": 18,
          "metadata": {},
          "output_type": "execute_result"
        }
      ],
      "source": [
        "repeat_string(\"mds\") # do not specify `n`; it is optional"
      ]
    },
    {
      "cell_type": "markdown",
      "metadata": {
        "id": "KnwMHjN70ApH"
      },
      "source": [
        "Ideally, the default value for optional arguments should be carefully chosen. In the function above, the idea of \"repeating\" something makes me think of having 2 copies, so `n=2` feels like a reasonable default.\n",
        "\n",
        "You can have any number of required arguments and any number of optional arguments. All the optional arguments must come after the required arguments. The required arguments are mapped by the order they appear. The optional arguments can be specified out of order when using the function."
      ]
    },
    {
      "cell_type": "code",
      "execution_count": null,
      "metadata": {
        "id": "wyOm-VuK0ApH",
        "outputId": "7c9c3094-9af6-45a7-d782-a4df4aebeaec"
      },
      "outputs": [
        {
          "name": "stdout",
          "output_type": "stream",
          "text": [
            "1 2 3 4\n"
          ]
        }
      ],
      "source": [
        "def example(a, b, c=\"DEFAULT\", d=\"DEFAULT\"):\n",
        "    print(a, b, c, d)\n",
        "    \n",
        "example(1, 2, 3, 4)"
      ]
    },
    {
      "cell_type": "markdown",
      "metadata": {
        "id": "K6VQG1yZ0ApI"
      },
      "source": [
        "Using the defaults for `c` and `d`:"
      ]
    },
    {
      "cell_type": "code",
      "execution_count": null,
      "metadata": {
        "id": "fUWIwiTK0ApI",
        "outputId": "26ba2125-9762-4133-9ea6-c9ce65feeedf"
      },
      "outputs": [
        {
          "name": "stdout",
          "output_type": "stream",
          "text": [
            "1 2 DEFAULT DEFAULT\n"
          ]
        }
      ],
      "source": [
        "example(1, 2)"
      ]
    },
    {
      "cell_type": "markdown",
      "metadata": {
        "id": "cZyWlktr0ApJ"
      },
      "source": [
        "Specifying `c` and `d` as **keyword arguments** (i.e. by name):"
      ]
    },
    {
      "cell_type": "code",
      "execution_count": null,
      "metadata": {
        "id": "rVnQld7R0ApJ",
        "outputId": "890df625-6ff1-41ae-b9bc-f21f969efb61"
      },
      "outputs": [
        {
          "name": "stdout",
          "output_type": "stream",
          "text": [
            "1 2 3 4\n"
          ]
        }
      ],
      "source": [
        "example(1, 2, c=3, d=4)"
      ]
    },
    {
      "cell_type": "markdown",
      "metadata": {
        "id": "1PCWvJf50ApJ"
      },
      "source": [
        "Specifying only one of the optional arguments, by keyword:"
      ]
    },
    {
      "cell_type": "code",
      "execution_count": null,
      "metadata": {
        "id": "1dVytNZV0ApK",
        "outputId": "1535f2c9-a85e-4066-8850-ec1e003a0a11"
      },
      "outputs": [
        {
          "name": "stdout",
          "output_type": "stream",
          "text": [
            "1 2 3 DEFAULT\n"
          ]
        }
      ],
      "source": [
        "example(1, 2, c=3)"
      ]
    },
    {
      "cell_type": "markdown",
      "metadata": {
        "id": "NIC-P3ET0ApL"
      },
      "source": [
        "Specifying all the arguments as keyword arguments, even though only `c` and `d` are optional:"
      ]
    },
    {
      "cell_type": "code",
      "execution_count": null,
      "metadata": {
        "id": "f7pXh71-0ApL",
        "outputId": "96d5e325-a63a-41df-aac5-e3b3b054ae40"
      },
      "outputs": [
        {
          "name": "stdout",
          "output_type": "stream",
          "text": [
            "1 2 3 4\n"
          ]
        }
      ],
      "source": [
        "example(a=1, b=2, c=3, d=4)"
      ]
    },
    {
      "cell_type": "markdown",
      "metadata": {
        "id": "BktUZ8AG0ApL"
      },
      "source": [
        "Specifying `c` by the fact that it comes 3rd (I do not recommend this because I find it is confusing):"
      ]
    },
    {
      "cell_type": "code",
      "execution_count": null,
      "metadata": {
        "id": "G5-3iyop0ApM",
        "outputId": "0e9a729c-01d1-472d-98f5-a98c65c7b67c"
      },
      "outputs": [
        {
          "name": "stdout",
          "output_type": "stream",
          "text": [
            "1 2 3 DEFAULT\n"
          ]
        }
      ],
      "source": [
        "example(1, 2, 3)"
      ]
    },
    {
      "cell_type": "markdown",
      "metadata": {
        "id": "0Ajuk14d0ApN"
      },
      "source": [
        "Specifying the optional arguments by keyword, but in the wrong order (this can also be confusing, but not so terrible - I am fine with it):"
      ]
    },
    {
      "cell_type": "code",
      "execution_count": null,
      "metadata": {
        "id": "ofEtqLl50ApO",
        "outputId": "9e2c7808-83a9-4012-8c53-431344c28bc5"
      },
      "outputs": [
        {
          "name": "stdout",
          "output_type": "stream",
          "text": [
            "1 2 3 4\n"
          ]
        }
      ],
      "source": [
        "example(1, 2, d=4, c=3)"
      ]
    },
    {
      "cell_type": "markdown",
      "metadata": {
        "id": "6C4DphK70ApQ"
      },
      "source": [
        "Specifying the non-optional arguments by keyword (I am fine with this):"
      ]
    },
    {
      "cell_type": "code",
      "execution_count": null,
      "metadata": {
        "id": "PJYmzJqw0ApR",
        "outputId": "36173c47-3800-4900-9d98-b153ce781d6e"
      },
      "outputs": [
        {
          "name": "stdout",
          "output_type": "stream",
          "text": [
            "1 2 DEFAULT DEFAULT\n"
          ]
        }
      ],
      "source": [
        "example(a=1, b=2)"
      ]
    },
    {
      "cell_type": "markdown",
      "metadata": {
        "id": "WUWMVPc20ApT"
      },
      "source": [
        "Specifying the non-optional arguments by keyword, but in the wrong order (not recommended, I find it confusing):"
      ]
    },
    {
      "cell_type": "code",
      "execution_count": null,
      "metadata": {
        "id": "kICTCBY10ApT",
        "outputId": "cc2a6c3d-51b2-4481-a0ee-57e85f575d83"
      },
      "outputs": [
        {
          "name": "stdout",
          "output_type": "stream",
          "text": [
            "1 2 DEFAULT DEFAULT\n"
          ]
        }
      ],
      "source": [
        "example(b=2, a=1)"
      ]
    },
    {
      "cell_type": "markdown",
      "metadata": {
        "id": "0aYhsIoU0ApU"
      },
      "source": [
        "Specifying keyword arguments before non-keyword arguments (this throws an error):"
      ]
    },
    {
      "cell_type": "code",
      "execution_count": null,
      "metadata": {
        "tags": [
          "raises-exception"
        ],
        "id": "ZySYuAIZ0ApU",
        "outputId": "3519483d-3288-4ae9-8fb3-11767e187d66"
      },
      "outputs": [
        {
          "ename": "SyntaxError",
          "evalue": "positional argument follows keyword argument (<ipython-input-23-a37b920e8205>, line 1)",
          "output_type": "error",
          "traceback": [
            "\u001b[0;36m  File \u001b[0;32m\"<ipython-input-23-a37b920e8205>\"\u001b[0;36m, line \u001b[0;32m1\u001b[0m\n\u001b[0;31m    example(a=2, 1)\u001b[0m\n\u001b[0m                ^\u001b[0m\n\u001b[0;31mSyntaxError\u001b[0m\u001b[0;31m:\u001b[0m positional argument follows keyword argument\n"
          ]
        }
      ],
      "source": [
        "example(a=2, 1)"
      ]
    },
    {
      "cell_type": "markdown",
      "metadata": {
        "id": "34AD_ThV0ApV"
      },
      "source": [
        "### Multiple Return Values\n",
        "\n",
        "In many programming languages, functions can only return one object. That is technically true in Python too, but there is a \"workaround\", which is to return a tuple."
      ]
    },
    {
      "cell_type": "code",
      "execution_count": null,
      "metadata": {
        "id": "WtN7YvyO0ApV"
      },
      "outputs": [],
      "source": [
        "def sum_and_product(x, y):\n",
        "    return (x + y, x * y)"
      ]
    },
    {
      "cell_type": "code",
      "execution_count": null,
      "metadata": {
        "id": "aywtFojc0ApV",
        "outputId": "bee704e6-1d04-4865-c44d-df3c8d35940f"
      },
      "outputs": [
        {
          "data": {
            "text/plain": [
              "(11, 30)"
            ]
          },
          "execution_count": 25,
          "metadata": {},
          "output_type": "execute_result"
        }
      ],
      "source": [
        "sum_and_product(5, 6)"
      ]
    },
    {
      "cell_type": "markdown",
      "metadata": {
        "id": "JpYGP4v30ApW"
      },
      "source": [
        "The parentheses can be omitted (and often are), and a `tuple` is implicitly returned as defined by the use of the comma: "
      ]
    },
    {
      "cell_type": "code",
      "execution_count": null,
      "metadata": {
        "id": "MPGAo2ae0ApW"
      },
      "outputs": [],
      "source": [
        "def sum_and_product(x, y):\n",
        "    return x + y, x * y"
      ]
    },
    {
      "cell_type": "code",
      "execution_count": null,
      "metadata": {
        "id": "Wh084-bv0ApX",
        "outputId": "1446772c-b3c6-4097-90f4-0b980604033a"
      },
      "outputs": [
        {
          "data": {
            "text/plain": [
              "(11, 30)"
            ]
          },
          "execution_count": 27,
          "metadata": {},
          "output_type": "execute_result"
        }
      ],
      "source": [
        "sum_and_product(5, 6)"
      ]
    },
    {
      "cell_type": "markdown",
      "metadata": {
        "id": "NLj3XJAE0ApX"
      },
      "source": [
        "It is common to immediately unpack a returned tuple into separate variables, so it really feels like the function is returning multiple values:"
      ]
    },
    {
      "cell_type": "code",
      "execution_count": null,
      "metadata": {
        "id": "BHkTve290ApX"
      },
      "outputs": [],
      "source": [
        "s, p = sum_and_product(5, 6)"
      ]
    },
    {
      "cell_type": "code",
      "execution_count": null,
      "metadata": {
        "id": "H18htRtL0ApX",
        "outputId": "b7d88a71-1b41-491c-adc6-644aee560934"
      },
      "outputs": [
        {
          "data": {
            "text/plain": [
              "11"
            ]
          },
          "execution_count": 29,
          "metadata": {},
          "output_type": "execute_result"
        }
      ],
      "source": [
        "s"
      ]
    },
    {
      "cell_type": "code",
      "execution_count": null,
      "metadata": {
        "id": "FsRV45sn0ApY",
        "outputId": "1664dbc4-4b20-4b71-b689-6ad092653bf2"
      },
      "outputs": [
        {
          "data": {
            "text/plain": [
              "30"
            ]
          },
          "execution_count": 30,
          "metadata": {},
          "output_type": "execute_result"
        }
      ],
      "source": [
        "p"
      ]
    },
    {
      "cell_type": "markdown",
      "metadata": {
        "id": "c7y3caqp0ApY"
      },
      "source": [
        "As an aside, it is conventional in Python to use `_` for values you don't want:"
      ]
    },
    {
      "cell_type": "code",
      "execution_count": null,
      "metadata": {
        "id": "kpymFOkO0ApY"
      },
      "outputs": [],
      "source": [
        "s, _ = sum_and_product(5, 6)"
      ]
    },
    {
      "cell_type": "code",
      "execution_count": null,
      "metadata": {
        "id": "Qb5qX5JG0ApZ",
        "outputId": "da36459e-b6ff-495c-9dc6-595039128a43"
      },
      "outputs": [
        {
          "data": {
            "text/plain": [
              "11"
            ]
          },
          "execution_count": 32,
          "metadata": {},
          "output_type": "execute_result"
        }
      ],
      "source": [
        "s"
      ]
    },
    {
      "cell_type": "code",
      "execution_count": null,
      "metadata": {
        "id": "04mC5O3-0ApZ",
        "outputId": "ea9a1382-ea47-44d6-fa33-b2f8e2e91813"
      },
      "outputs": [
        {
          "data": {
            "text/plain": [
              "30"
            ]
          },
          "execution_count": 33,
          "metadata": {},
          "output_type": "execute_result"
        }
      ],
      "source": [
        "_"
      ]
    },
    {
      "cell_type": "markdown",
      "metadata": {
        "id": "dO_E9ZRP0ApZ"
      },
      "source": [
        "### Functions with Arbitrary Number of Arguments\n",
        "\n",
        "You can also call/define functions that accept an arbitrary number of positional or keyword arguments using `*args` and `**kwargs`."
      ]
    },
    {
      "cell_type": "code",
      "execution_count": null,
      "metadata": {
        "id": "jjmGN6oT0Apa"
      },
      "outputs": [],
      "source": [
        "def add(*args):\n",
        "    print(args)\n",
        "    return sum(args)"
      ]
    },
    {
      "cell_type": "code",
      "execution_count": null,
      "metadata": {
        "id": "zaPykQz40Apa",
        "outputId": "410c75dc-411f-41ac-e7f1-401dec2a2640"
      },
      "outputs": [
        {
          "name": "stdout",
          "output_type": "stream",
          "text": [
            "(1, 2, 3, 4, 5, 6)\n"
          ]
        },
        {
          "data": {
            "text/plain": [
              "21"
            ]
          },
          "execution_count": 35,
          "metadata": {},
          "output_type": "execute_result"
        }
      ],
      "source": [
        "add(1, 2, 3, 4, 5, 6)"
      ]
    },
    {
      "cell_type": "code",
      "execution_count": null,
      "metadata": {
        "id": "aC0HvEeb0Apa"
      },
      "outputs": [],
      "source": [
        "def add(**kwargs):\n",
        "    print(kwargs)\n",
        "    return sum(kwargs.values())"
      ]
    },
    {
      "cell_type": "code",
      "execution_count": null,
      "metadata": {
        "id": "pNiGsVfj0Apb",
        "outputId": "93693aac-061f-481e-ba3e-bd7e1a2aa913"
      },
      "outputs": [
        {
          "name": "stdout",
          "output_type": "stream",
          "text": [
            "{'a': 3, 'b': 4, 'c': 5}\n"
          ]
        },
        {
          "data": {
            "text/plain": [
              "12"
            ]
          },
          "execution_count": 37,
          "metadata": {},
          "output_type": "execute_result"
        }
      ],
      "source": [
        "add(a=3, b=4, c=5)"
      ]
    },
    {
      "cell_type": "markdown",
      "metadata": {
        "id": "uAai4lsy0Apb"
      },
      "source": [
        "## 6. Functions as  a Data Type\n",
        "<hr>"
      ]
    },
    {
      "cell_type": "markdown",
      "metadata": {
        "id": "LBSbWhU50Apc"
      },
      "source": [
        "In Python, functions are actually a data type:"
      ]
    },
    {
      "cell_type": "code",
      "execution_count": null,
      "metadata": {
        "jupyter": {
          "outputs_hidden": false
        },
        "id": "h2yvy6LK0Apc"
      },
      "outputs": [],
      "source": [
        "def do_nothing(x):\n",
        "    return x"
      ]
    },
    {
      "cell_type": "code",
      "execution_count": null,
      "metadata": {
        "id": "DJArZ7h80Apc",
        "outputId": "438f77f6-4b92-43b6-a07e-3eb501ebca50"
      },
      "outputs": [
        {
          "data": {
            "text/plain": [
              "function"
            ]
          },
          "execution_count": 39,
          "metadata": {},
          "output_type": "execute_result"
        }
      ],
      "source": [
        "type(do_nothing)"
      ]
    },
    {
      "cell_type": "code",
      "execution_count": null,
      "metadata": {
        "id": "p36dsYVO0Apc",
        "outputId": "040ad2b2-b10b-4743-cd52-5d936d0052fd"
      },
      "outputs": [
        {
          "name": "stdout",
          "output_type": "stream",
          "text": [
            "<function do_nothing at 0x1102450e0>\n"
          ]
        }
      ],
      "source": [
        "print(do_nothing)"
      ]
    },
    {
      "cell_type": "markdown",
      "metadata": {
        "id": "S6RdSxGl0Apd"
      },
      "source": [
        "This means you can pass functions as arguments into other functions."
      ]
    },
    {
      "cell_type": "code",
      "execution_count": null,
      "metadata": {
        "id": "aRmbZpS80Apd"
      },
      "outputs": [],
      "source": [
        "def square(y):\n",
        "    return y**2\n",
        "\n",
        "def evaluate_function_on_x_plus_1(fun, x):\n",
        "    return fun(x+1)"
      ]
    },
    {
      "cell_type": "code",
      "execution_count": null,
      "metadata": {
        "id": "_eTaZmeC0Ape",
        "outputId": "eb8a5aee-7fc5-40fc-dbb7-f9d183b62a97"
      },
      "outputs": [
        {
          "data": {
            "text/plain": [
              "36"
            ]
          },
          "execution_count": 42,
          "metadata": {},
          "output_type": "execute_result"
        }
      ],
      "source": [
        "evaluate_function_on_x_plus_1(square, 5)"
      ]
    },
    {
      "cell_type": "markdown",
      "metadata": {
        "id": "u_NAkC1w0Ape"
      },
      "source": [
        "So what happened above?\n",
        "- `fun(x+1)` becomes `square(5+1)`\n",
        "- `square(6)` becomes `36`"
      ]
    },
    {
      "cell_type": "markdown",
      "metadata": {
        "id": "wbBJeECH0Ape"
      },
      "source": [
        "## 7. Anonymous Functions\n",
        "<hr>"
      ]
    },
    {
      "cell_type": "markdown",
      "metadata": {
        "id": "s4R_aL7i0Ape"
      },
      "source": [
        "There are two ways to define functions in Python. The way we've beenusing up until now:"
      ]
    },
    {
      "cell_type": "code",
      "execution_count": null,
      "metadata": {
        "id": "P1DvuN2p0Apf"
      },
      "outputs": [],
      "source": [
        "def add_one(x):\n",
        "    return x+1"
      ]
    },
    {
      "cell_type": "code",
      "execution_count": null,
      "metadata": {
        "id": "f2YRTHkJ0Apg",
        "outputId": "b83c73cf-77d4-404a-d880-3a3983166daf"
      },
      "outputs": [
        {
          "data": {
            "text/plain": [
              "8.2"
            ]
          },
          "execution_count": 44,
          "metadata": {},
          "output_type": "execute_result"
        }
      ],
      "source": [
        "add_one(7.2)"
      ]
    },
    {
      "cell_type": "markdown",
      "metadata": {
        "id": "KFmpHdBg0Apg"
      },
      "source": [
        "Or by using the `lambda` keyword:"
      ]
    },
    {
      "cell_type": "code",
      "execution_count": null,
      "metadata": {
        "id": "P6j2NiRU0Aph"
      },
      "outputs": [],
      "source": [
        "add_one = lambda x: x+1 "
      ]
    },
    {
      "cell_type": "code",
      "execution_count": null,
      "metadata": {
        "id": "jAaMgnFK0Api",
        "outputId": "1c625dbd-ab4a-4c0d-8383-baf5372571de"
      },
      "outputs": [
        {
          "data": {
            "text/plain": [
              "function"
            ]
          },
          "execution_count": 46,
          "metadata": {},
          "output_type": "execute_result"
        }
      ],
      "source": [
        "type(add_one)"
      ]
    },
    {
      "cell_type": "code",
      "execution_count": null,
      "metadata": {
        "id": "7LxK8BeA0Apj",
        "outputId": "f2b01565-9050-4be4-c04e-1fbb2fba3fae"
      },
      "outputs": [
        {
          "data": {
            "text/plain": [
              "8.2"
            ]
          },
          "execution_count": 47,
          "metadata": {},
          "output_type": "execute_result"
        }
      ],
      "source": [
        "add_one(7.2)"
      ]
    },
    {
      "cell_type": "markdown",
      "metadata": {
        "id": "1IcGLXdU0Apj"
      },
      "source": [
        "The two approaches above are identical. The one with `lambda` is called an **anonymous function**. Anonymous functions can only take up one line of code, so they aren't appropriate in most cases, but can be useful for smaller things."
      ]
    },
    {
      "cell_type": "code",
      "execution_count": null,
      "metadata": {
        "id": "x0Bt6xUP0Apj",
        "outputId": "8f28b7ec-4495-413c-f6a4-5280da7d4cf6"
      },
      "outputs": [
        {
          "data": {
            "text/plain": [
              "36"
            ]
          },
          "execution_count": 48,
          "metadata": {},
          "output_type": "execute_result"
        }
      ],
      "source": [
        "evaluate_function_on_x_plus_1(lambda x: x ** 2, 5)"
      ]
    },
    {
      "cell_type": "markdown",
      "metadata": {
        "id": "K1qiw7Bu0Apk"
      },
      "source": [
        "Above:\n",
        "\n",
        "- First, `lambda x: x**2` evaluates to a value of type `function` (otice that this function is never given a name - hence \"anonymous functions\").\n",
        "- Then, the function and the integer `5` are passed into `evaluate_function_on_x_plus_1`\n",
        "- At which point the anonymous function is evaluated on `5+1`, and we get `36`."
      ]
    },
    {
      "cell_type": "markdown",
      "metadata": {
        "id": "Ay8HqNUs0Apk"
      },
      "source": [
        "## 8. DRY Principle, Designing Good Functions\n",
        "<hr>"
      ]
    },
    {
      "cell_type": "markdown",
      "metadata": {
        "id": "M99x3yQf0Apk"
      },
      "source": [
        "DRY stands for **Don't Repeat Yourself**. See the relevant [Wikipedia article](https://en.wikipedia.org/wiki/Don%27t_repeat_yourself) for more about this principle.\n",
        "\n",
        "As an example, consider the task of turning each element of a list into a palindrome."
      ]
    },
    {
      "cell_type": "code",
      "execution_count": null,
      "metadata": {
        "id": "zpsDbOM20Apl"
      },
      "outputs": [],
      "source": [
        "names = [\"milad\", \"tom\", \"tiffany\"]"
      ]
    },
    {
      "cell_type": "code",
      "execution_count": null,
      "metadata": {
        "id": "0oS4s6Hg0Apl",
        "outputId": "7285f6aa-5d3c-43f8-8b03-1fad73b668d2"
      },
      "outputs": [
        {
          "data": {
            "text/plain": [
              "'mot'"
            ]
          },
          "execution_count": 50,
          "metadata": {},
          "output_type": "execute_result"
        }
      ],
      "source": [
        "name = \"tom\"\n",
        "name[::-1]  # creates a slice that starts at the end and moves backwards, syntax is [begin:end:step]"
      ]
    },
    {
      "cell_type": "code",
      "execution_count": null,
      "metadata": {
        "id": "4YBQcyvl0Apl",
        "outputId": "1aad489d-9ce6-4cef-900e-b617455c488a"
      },
      "outputs": [
        {
          "data": {
            "text/plain": [
              "['miladdalim', 'tommot', 'tiffanyynaffit']"
            ]
          },
          "execution_count": 51,
          "metadata": {},
          "output_type": "execute_result"
        }
      ],
      "source": [
        "names_backwards = list()\n",
        "\n",
        "names_backwards.append(names[0] + names[0][::-1])\n",
        "names_backwards.append(names[1] + names[1][::-1])\n",
        "names_backwards.append(names[2] + names[2][::-1])\n",
        "names_backwards"
      ]
    },
    {
      "cell_type": "markdown",
      "metadata": {
        "id": "sEyKtYjj0Apm"
      },
      "source": [
        "The code above is gross, terrible, yucky code for several reasons:\n",
        "1. It only works for a list with 3 elements;\n",
        "2. It only works for a list named `names`;\n",
        "3. If we want to change its functionality, we need to change 3 similar lines of code (Don't Repeat Yourself!!);\n",
        "4. It is hard to understand what it does just by looking at it.\n",
        "\n",
        "Let's try this a different way:"
      ]
    },
    {
      "cell_type": "code",
      "execution_count": null,
      "metadata": {
        "id": "696ERpFA0Apm",
        "outputId": "215d71cd-5c3e-4d3b-91b3-7640c6b5729c"
      },
      "outputs": [
        {
          "data": {
            "text/plain": [
              "['miladdalim', 'tommot', 'tiffanyynaffit']"
            ]
          },
          "execution_count": 53,
          "metadata": {},
          "output_type": "execute_result"
        }
      ],
      "source": [
        "names_backwards = list()\n",
        "\n",
        "for name in names:\n",
        "    names_backwards.append(name + name[::-1])\n",
        "    \n",
        "names_backwards"
      ]
    },
    {
      "cell_type": "markdown",
      "metadata": {
        "id": "C6FvE1E80Apm"
      },
      "source": [
        "The above is slightly better and we have solved problems (1) and (3). But let's create a function to make our life easier:"
      ]
    },
    {
      "cell_type": "code",
      "execution_count": null,
      "metadata": {
        "id": "r5gCVTrX0Apn",
        "outputId": "a7896286-62b1-4601-8c3d-192ae31c1e9a"
      },
      "outputs": [
        {
          "data": {
            "text/plain": [
              "['miladdalim', 'tommot', 'tiffanyynaffit']"
            ]
          },
          "execution_count": 54,
          "metadata": {},
          "output_type": "execute_result"
        }
      ],
      "source": [
        "def make_palindromes(names):\n",
        "    names_backwards = list()\n",
        "    \n",
        "    for name in names:\n",
        "        names_backwards.append(name + name[::-1])\n",
        "    \n",
        "    return names_backwards\n",
        "\n",
        "make_palindromes(names)"
      ]
    },
    {
      "cell_type": "markdown",
      "metadata": {
        "id": "leLXK3km0Apn"
      },
      "source": [
        "Okay, this is even better. We have now also solved problem (2), because you can call the function with any list, not just `names`. For example, what if we had multiple _lists_:"
      ]
    },
    {
      "cell_type": "code",
      "execution_count": null,
      "metadata": {
        "id": "azwYjFSc0Apn"
      },
      "outputs": [],
      "source": [
        "names1 = [\"milad\", \"tom\", \"tiffany\"]\n",
        "names2 = [\"apple\", \"orange\", \"banana\"]"
      ]
    },
    {
      "cell_type": "code",
      "execution_count": null,
      "metadata": {
        "id": "FzmZ9o0F0Apo",
        "outputId": "7795294b-ae78-4186-96f1-07b6b38f0830"
      },
      "outputs": [
        {
          "data": {
            "text/plain": [
              "['miladdalim', 'tommot', 'tiffanyynaffit']"
            ]
          },
          "execution_count": 56,
          "metadata": {},
          "output_type": "execute_result"
        }
      ],
      "source": [
        "make_palindromes(names1)"
      ]
    },
    {
      "cell_type": "code",
      "execution_count": null,
      "metadata": {
        "id": "yQpqz4aJ0Apo",
        "outputId": "75336bfc-a272-4980-c4fd-63cad46e73e2"
      },
      "outputs": [
        {
          "data": {
            "text/plain": [
              "['appleelppa', 'orangeegnaro', 'bananaananab']"
            ]
          },
          "execution_count": 57,
          "metadata": {},
          "output_type": "execute_result"
        }
      ],
      "source": [
        "make_palindromes(names2)"
      ]
    },
    {
      "cell_type": "markdown",
      "metadata": {
        "id": "NkIc9W1y0Apo"
      },
      "source": [
        "### Designing Good Functions"
      ]
    },
    {
      "cell_type": "markdown",
      "metadata": {
        "id": "XGQM5VEK0App"
      },
      "source": [
        "How far you go and how you choose to apply the DRY principle is up to you and the programming context. These decisions are often ambiguous. Should `make_palindromes()` be a function if I'm only ever doing it once? Twice? Should the loop be inside the function, or outside? Should there be TWO functions, one that loops over the other?\n",
        "\n",
        "In my personal opinion, `make_palindromes()` does a bit too much to be understandable. I prefer this:"
      ]
    },
    {
      "cell_type": "code",
      "execution_count": null,
      "metadata": {
        "id": "0lWzi_W90App",
        "outputId": "3f923e17-f9f2-452f-d17a-41eb559c90d2"
      },
      "outputs": [
        {
          "data": {
            "text/plain": [
              "'miladdalim'"
            ]
          },
          "execution_count": 58,
          "metadata": {},
          "output_type": "execute_result"
        }
      ],
      "source": [
        "def make_palindrome(name):\n",
        "    return name + name[::-1]\n",
        "\n",
        "make_palindrome(\"milad\")"
      ]
    },
    {
      "cell_type": "markdown",
      "metadata": {
        "id": "tStlpyhc0Apq"
      },
      "source": [
        "From here, if we want to \"apply `make_palindrome` to every element of a list\" we could use list comprehension:"
      ]
    },
    {
      "cell_type": "code",
      "execution_count": null,
      "metadata": {
        "id": "cbpelxpH0Apq",
        "outputId": "4a2e9358-518e-4842-b69e-441d8e45aef5"
      },
      "outputs": [
        {
          "data": {
            "text/plain": [
              "['miladdalim', 'tommot', 'tiffanyynaffit']"
            ]
          },
          "execution_count": 59,
          "metadata": {},
          "output_type": "execute_result"
        }
      ],
      "source": [
        "[make_palindrome(name) for name in names]"
      ]
    },
    {
      "cell_type": "markdown",
      "metadata": {
        "id": "xfgEZS660Apq"
      },
      "source": [
        "There is also the in-built `map()` function which does exactly this, applies a function to every element of a sequence:"
      ]
    },
    {
      "cell_type": "code",
      "execution_count": null,
      "metadata": {
        "id": "gia_BL2f0Apr",
        "outputId": "8ac77cf2-d3ce-46fa-cb3f-0ca4359725a3"
      },
      "outputs": [
        {
          "data": {
            "text/plain": [
              "['miladdalim', 'tommot', 'tiffanyynaffit']"
            ]
          },
          "execution_count": 60,
          "metadata": {},
          "output_type": "execute_result"
        }
      ],
      "source": [
        "list(map(make_palindrome, names))"
      ]
    },
    {
      "cell_type": "markdown",
      "metadata": {
        "id": "KhLqfPud0Apr"
      },
      "source": [
        "## 9. Generators\n",
        "<hr>"
      ]
    },
    {
      "cell_type": "markdown",
      "metadata": {
        "id": "y8LamZgG0Apr"
      },
      "source": [
        "Recall list comprehension from earlier in the chapter:"
      ]
    },
    {
      "cell_type": "code",
      "execution_count": null,
      "metadata": {
        "id": "ivqgm_oj0Aps",
        "outputId": "127a4a07-5abe-4570-d707-2509c8894d0d"
      },
      "outputs": [
        {
          "data": {
            "text/plain": [
              "[0, 1, 2, 3, 4, 5, 6, 7, 8, 9]"
            ]
          },
          "execution_count": 61,
          "metadata": {},
          "output_type": "execute_result"
        }
      ],
      "source": [
        "[n for n in range(10)]"
      ]
    },
    {
      "cell_type": "markdown",
      "metadata": {
        "id": "r3zETWtG0Aps"
      },
      "source": [
        "Comprehensions evaluate the entire expression at once, and then returns the full data product. Sometimes, we want to work with just one part of our data at a time, for example, when we can't fit all of our data in memory. For this, we can use *generators*."
      ]
    },
    {
      "cell_type": "code",
      "execution_count": null,
      "metadata": {
        "id": "vC4OyZjy0Apt",
        "outputId": "5346145e-a007-466c-a5ba-989d56169a70"
      },
      "outputs": [
        {
          "data": {
            "text/plain": [
              "<generator object <genexpr> at 0x110220650>"
            ]
          },
          "execution_count": 62,
          "metadata": {},
          "output_type": "execute_result"
        }
      ],
      "source": [
        "(n for n in range(10))"
      ]
    },
    {
      "cell_type": "markdown",
      "metadata": {
        "id": "buCddgJH0Apt"
      },
      "source": [
        "Notice that we just created a `generator object`. Generator objects are like a \"recipe\" for generating values. They don't actually do any computation until they are asked to. We can get values from a generator in three main ways:\n",
        "- Using `next()`\n",
        "- Using `list()`\n",
        "- Looping"
      ]
    },
    {
      "cell_type": "code",
      "execution_count": null,
      "metadata": {
        "id": "dCO7LO1y0Apu"
      },
      "outputs": [],
      "source": [
        "gen = (n for n in range(10))"
      ]
    },
    {
      "cell_type": "code",
      "execution_count": null,
      "metadata": {
        "id": "5lwTD7h80Apu",
        "outputId": "f06338bd-186a-41d2-b883-022c0b711a31"
      },
      "outputs": [
        {
          "data": {
            "text/plain": [
              "0"
            ]
          },
          "execution_count": 64,
          "metadata": {},
          "output_type": "execute_result"
        }
      ],
      "source": [
        "next(gen)"
      ]
    },
    {
      "cell_type": "code",
      "execution_count": null,
      "metadata": {
        "id": "LxmP7qgB0Apu",
        "outputId": "e723ea30-219a-4c76-b4fa-99290786fea3"
      },
      "outputs": [
        {
          "data": {
            "text/plain": [
              "1"
            ]
          },
          "execution_count": 65,
          "metadata": {},
          "output_type": "execute_result"
        }
      ],
      "source": [
        "next(gen)"
      ]
    },
    {
      "cell_type": "markdown",
      "metadata": {
        "id": "Xp7KNpuh0Apu"
      },
      "source": [
        "Once the generator is exhausted, it will no longer return values:"
      ]
    },
    {
      "cell_type": "code",
      "execution_count": null,
      "metadata": {
        "tags": [
          "raises-exception"
        ],
        "id": "RLwHSkDe0Apv",
        "outputId": "f20fe250-5a3c-4181-a2aa-29a20dc001fb"
      },
      "outputs": [
        {
          "name": "stdout",
          "output_type": "stream",
          "text": [
            "0\n",
            "1\n",
            "2\n",
            "3\n",
            "4\n",
            "5\n",
            "6\n",
            "7\n",
            "8\n",
            "9\n"
          ]
        },
        {
          "ename": "StopIteration",
          "evalue": "",
          "output_type": "error",
          "traceback": [
            "\u001b[0;31m---------------------------------------------------------------------------\u001b[0m",
            "\u001b[0;31mStopIteration\u001b[0m                             Traceback (most recent call last)",
            "\u001b[0;32m<ipython-input-67-14d35f56c593>\u001b[0m in \u001b[0;36m<module>\u001b[0;34m\u001b[0m\n\u001b[1;32m      1\u001b[0m \u001b[0mgen\u001b[0m \u001b[0;34m=\u001b[0m \u001b[0;34m(\u001b[0m\u001b[0mn\u001b[0m \u001b[0;32mfor\u001b[0m \u001b[0mn\u001b[0m \u001b[0;32min\u001b[0m \u001b[0mrange\u001b[0m\u001b[0;34m(\u001b[0m\u001b[0;36m10\u001b[0m\u001b[0;34m)\u001b[0m\u001b[0;34m)\u001b[0m\u001b[0;34m\u001b[0m\u001b[0;34m\u001b[0m\u001b[0m\n\u001b[1;32m      2\u001b[0m \u001b[0;32mfor\u001b[0m \u001b[0mi\u001b[0m \u001b[0;32min\u001b[0m \u001b[0mrange\u001b[0m\u001b[0;34m(\u001b[0m\u001b[0;36m11\u001b[0m\u001b[0;34m)\u001b[0m\u001b[0;34m:\u001b[0m\u001b[0;34m\u001b[0m\u001b[0;34m\u001b[0m\u001b[0m\n\u001b[0;32m----> 3\u001b[0;31m     \u001b[0mprint\u001b[0m\u001b[0;34m(\u001b[0m\u001b[0mnext\u001b[0m\u001b[0;34m(\u001b[0m\u001b[0mgen\u001b[0m\u001b[0;34m)\u001b[0m\u001b[0;34m)\u001b[0m\u001b[0;34m\u001b[0m\u001b[0;34m\u001b[0m\u001b[0m\n\u001b[0m",
            "\u001b[0;31mStopIteration\u001b[0m: "
          ]
        }
      ],
      "source": [
        "gen = (n for n in range(10))\n",
        "for i in range(11):\n",
        "    print(next(gen))"
      ]
    },
    {
      "cell_type": "markdown",
      "metadata": {
        "id": "cMQc0Og80Apv"
      },
      "source": [
        "We can see all the values of a generator using `list()` but this defeats the purpose of using a generator in the first place:"
      ]
    },
    {
      "cell_type": "code",
      "execution_count": null,
      "metadata": {
        "id": "7tfYTH7L0Apv",
        "outputId": "df4396d7-453d-420f-c9f1-468e3033b313"
      },
      "outputs": [
        {
          "data": {
            "text/plain": [
              "[0, 1, 2, 3, 4, 5, 6, 7, 8, 9]"
            ]
          },
          "execution_count": 68,
          "metadata": {},
          "output_type": "execute_result"
        }
      ],
      "source": [
        "gen = (n for n in range(10))\n",
        "list(gen)"
      ]
    },
    {
      "cell_type": "markdown",
      "metadata": {
        "id": "Os8kr21K0Apw"
      },
      "source": [
        "Finally, we can loop over generator objects too:"
      ]
    },
    {
      "cell_type": "code",
      "execution_count": null,
      "metadata": {
        "id": "mZcaLqv00Apw",
        "outputId": "e2f7b5c2-252c-4dca-eabb-f98858bd3ba1"
      },
      "outputs": [
        {
          "name": "stdout",
          "output_type": "stream",
          "text": [
            "0\n",
            "1\n",
            "2\n",
            "3\n",
            "4\n",
            "5\n",
            "6\n",
            "7\n",
            "8\n",
            "9\n"
          ]
        }
      ],
      "source": [
        "gen = (n for n in range(10))\n",
        "for i in gen:\n",
        "    print(i)"
      ]
    },
    {
      "cell_type": "markdown",
      "metadata": {
        "id": "9Abykfur0Apx"
      },
      "source": [
        "Above, we saw how to create a generator object using comprehension syntax but with parentheses. We can also create a generator using functions and the `yield` keyword (instead of the `return` keyword):"
      ]
    },
    {
      "cell_type": "code",
      "execution_count": null,
      "metadata": {
        "id": "XzDBEs4H0Apx"
      },
      "outputs": [],
      "source": [
        "def gen():\n",
        "    for n in range(10):\n",
        "        yield (n, n ** 2)"
      ]
    },
    {
      "cell_type": "code",
      "execution_count": null,
      "metadata": {
        "id": "Olk78aSE0Apx",
        "outputId": "bfa86d32-72d4-47ea-9565-f654e10d33a6"
      },
      "outputs": [
        {
          "name": "stdout",
          "output_type": "stream",
          "text": [
            "(0, 0)\n",
            "(1, 1)\n",
            "(2, 4)\n"
          ]
        }
      ],
      "source": [
        "g = gen()\n",
        "print(next(g))\n",
        "print(next(g))\n",
        "print(next(g))"
      ]
    },
    {
      "cell_type": "markdown",
      "metadata": {
        "id": "OQrLPKSm0Apy"
      },
      "source": [
        "Below is some real-world motivation of a case where a generator might be useful. Say we want to create a list of dictionaries containing information about houses in Canada."
      ]
    },
    {
      "cell_type": "code",
      "execution_count": null,
      "metadata": {
        "id": "PCGcC1oF0Apy"
      },
      "outputs": [],
      "source": [
        "import random  # we'll learn about imports in a later chapter\n",
        "import time\n",
        "import memory_profiler\n",
        "city = ['Vancouver', 'Toronto', 'Ottawa', 'Montreal']"
      ]
    },
    {
      "cell_type": "code",
      "execution_count": null,
      "metadata": {
        "id": "qW3QVfew0Apy"
      },
      "outputs": [],
      "source": [
        "def house_list(n):\n",
        "    houses = []\n",
        "    for i in range(n):\n",
        "        house = {\n",
        "            'id': i,\n",
        "            'city': random.choice(city),\n",
        "            'bedrooms': random.randint(1, 5),\n",
        "            'bathrooms': random.randint(1, 3),\n",
        "            'price ($1000s)': random.randint(300, 1000)\n",
        "        }\n",
        "        houses.append(house)\n",
        "    return houses"
      ]
    },
    {
      "cell_type": "code",
      "execution_count": null,
      "metadata": {
        "id": "caIiy6PV0Apz",
        "outputId": "1f566675-8b82-4277-cb81-0e89d4acb373"
      },
      "outputs": [
        {
          "data": {
            "text/plain": [
              "[{'id': 0,\n",
              "  'city': 'Ottawa',\n",
              "  'bedrooms': 5,\n",
              "  'bathrooms': 2,\n",
              "  'price ($1000s)': 420},\n",
              " {'id': 1,\n",
              "  'city': 'Montreal',\n",
              "  'bedrooms': 5,\n",
              "  'bathrooms': 1,\n",
              "  'price ($1000s)': 652}]"
            ]
          },
          "execution_count": 74,
          "metadata": {},
          "output_type": "execute_result"
        }
      ],
      "source": [
        "house_list(2)"
      ]
    },
    {
      "cell_type": "markdown",
      "metadata": {
        "id": "2lx1sRqc0Apz"
      },
      "source": [
        "What happens if we want to create a list of 1,000,000 houses? How much time/memory will it take?"
      ]
    },
    {
      "cell_type": "code",
      "execution_count": null,
      "metadata": {
        "id": "Lteqckoy0Apz",
        "outputId": "c141ef92-d6b2-437c-c9bc-961af112dd58"
      },
      "outputs": [
        {
          "name": "stdout",
          "output_type": "stream",
          "text": [
            "Memory usage before: 86 mb\n",
            "Memory usage after: 251 mb\n",
            "Time taken: 2.24s\n"
          ]
        }
      ],
      "source": [
        "start = time.time()\n",
        "mem = memory_profiler.memory_usage()\n",
        "print(f\"Memory usage before: {mem[0]:.0f} mb\")\n",
        "people = house_list(500000)\n",
        "print(f\"Memory usage after: {memory_profiler.memory_usage()[0]:.0f} mb\")\n",
        "print(f\"Time taken: {time.time() - start:.2f}s\")"
      ]
    },
    {
      "cell_type": "code",
      "execution_count": null,
      "metadata": {
        "id": "Q1usVpNJ0Ap0"
      },
      "outputs": [],
      "source": [
        "def house_generator(n):\n",
        "    for i in range(n):\n",
        "        house = {\n",
        "            'id': i,\n",
        "            'city': random.choice(city),\n",
        "            'bedrooms': random.randint(1, 5),\n",
        "            'bathrooms': random.randint(1, 3),\n",
        "            'price ($1000s)': random.randint(300, 1000)\n",
        "        }\n",
        "        yield house"
      ]
    },
    {
      "cell_type": "code",
      "execution_count": null,
      "metadata": {
        "id": "sD62H0F40Ap0",
        "outputId": "15b82694-ab22-46a9-bd87-7b04f834c9a8"
      },
      "outputs": [
        {
          "name": "stdout",
          "output_type": "stream",
          "text": [
            "Memory usage before: 86 mb\n",
            "Memory usage after: 89 mb\n",
            "Time taken: 0.17s\n"
          ]
        }
      ],
      "source": [
        "start = time.time()\n",
        "print(f\"Memory usage before: {mem[0]:.0f} mb\")\n",
        "people = house_generator(500000)\n",
        "print(f\"Memory usage after: {memory_profiler.memory_usage()[0]:.0f} mb\")\n",
        "print(f\"Time taken: {time.time() - start:.2f}s\")"
      ]
    },
    {
      "cell_type": "markdown",
      "metadata": {
        "id": "o6Jsrqzc0Ap0"
      },
      "source": [
        "Although, if we used `list()` to extract all of the genertator values, we'd lose our memory savings:"
      ]
    },
    {
      "cell_type": "code",
      "execution_count": null,
      "metadata": {
        "id": "nggefGka0Ap1",
        "outputId": "462192c7-b9a2-43a7-96bb-b4746606e143"
      },
      "outputs": [
        {
          "name": "stdout",
          "output_type": "stream",
          "text": [
            "Memory usage before: 36 mb\n",
            "Memory usage after: 202 mb\n"
          ]
        }
      ],
      "source": [
        "print(f\"Memory usage before: {mem[0]:.0f} mb\")\n",
        "people = list(house_generator(500000))\n",
        "print(f\"Memory usage after: {memory_profiler.memory_usage()[0]:.0f} mb\")"
      ]
    },
    {
      "cell_type": "markdown",
      "metadata": {
        "id": "7ZUB5pAo0Ap1"
      },
      "source": [
        "## 10. Docstrings\n",
        "<hr>"
      ]
    },
    {
      "cell_type": "markdown",
      "metadata": {
        "id": "3-YsVjnp0Ap1"
      },
      "source": [
        "One problem we never really solved when talking about writing good functions was: \"4. It is hard to understand what it does just by looking at it\". This brings up the idea of function documentation, called \"docstrings\". The [docstring](https://www.python.org/dev/peps/pep-0257/) goes right after the `def` line and is wrapped in **triple quotes** `\"\"\"`."
      ]
    },
    {
      "cell_type": "code",
      "execution_count": null,
      "metadata": {
        "id": "KWjR6xz00Ap1"
      },
      "outputs": [],
      "source": [
        "def make_palindrome(string):\n",
        "    \"\"\"Turns the string into a palindrome by concatenating itself with a reversed version of itself.\"\"\"\n",
        "    \n",
        "    return string + string[::-1]"
      ]
    },
    {
      "cell_type": "markdown",
      "metadata": {
        "id": "zrzeyRBx0Ap2"
      },
      "source": [
        "In Python we can use the `help()` function to view another function's documentation. In IPython/Jupyter, we can use `?` to view the documentation string of any function in our environment."
      ]
    },
    {
      "cell_type": "code",
      "execution_count": null,
      "metadata": {
        "id": "J3bgXuMm0Ap2",
        "outputId": "de6e2286-1232-4a73-e222-ece61d66dfaf"
      },
      "outputs": [
        {
          "name": "stdout",
          "output_type": "stream",
          "text": [
            "Object `make_palindrome` not found.\n"
          ]
        }
      ],
      "source": [
        "make_palindrome?"
      ]
    },
    {
      "cell_type": "markdown",
      "metadata": {
        "id": "0G9eVPau0Ap2"
      },
      "source": [
        "But, even easier than that, if your cursor is in the function parentheses, you can use the shortcut `shift + tab` to open the docstring at will."
      ]
    },
    {
      "cell_type": "code",
      "execution_count": null,
      "metadata": {
        "id": "PkWf08F-0Ap2"
      },
      "outputs": [],
      "source": [
        "# make_palindrome('uncomment this line and try pressing shift+tab here.')"
      ]
    },
    {
      "cell_type": "markdown",
      "metadata": {
        "id": "G3ym0IE40Ap2"
      },
      "source": [
        "### Docstring Structure\n",
        "\n",
        "General docstring convention in Python is described in [PEP 257 - Docstring Conventions](https://www.python.org/dev/peps/pep-0257/). There are many different docstring style conventions used in Python. The exact style you use can be important for helping you to render your documentation, or for helping your IDE parse your documentation. Common styles include:\n",
        "\n",
        "1. **Single-line**: If it's short, then just a single line describing the function will do (as above).\n",
        "2. **reST style**: see [here](https://www.python.org/dev/peps/pep-0287/).\n",
        "3. **NumPy style**: see [here](https://sphinxcontrib-napoleon.readthedocs.io/en/latest/example_numpy.html). (RECOMMENDED! and MDS-preferred)\n",
        "4. **Google style**: see [here](https://sphinxcontrib-napoleon.readthedocs.io/en/latest/example_google.html#example-google).\n"
      ]
    },
    {
      "cell_type": "markdown",
      "metadata": {
        "id": "7-6ny0t80Ap3"
      },
      "source": [
        "The NumPy style:"
      ]
    },
    {
      "cell_type": "code",
      "execution_count": null,
      "metadata": {
        "id": "bZlE8hBT0Ap3"
      },
      "outputs": [],
      "source": [
        "def function_name(param1, param2, param3):\n",
        "    \"\"\"First line is a short description of the function.\n",
        "    \n",
        "    A paragraph describing in a bit more detail what the\n",
        "    function does and what algorithms it uses and common\n",
        "    use cases.\n",
        "    \n",
        "    Parameters\n",
        "    ----------\n",
        "    param1 : datatype\n",
        "        A description of param1.\n",
        "    param2 : datatype\n",
        "        A description of param2.\n",
        "    param3 : datatype\n",
        "        A longer description because maybe this requires\n",
        "        more explanation and we can use several lines.\n",
        "    \n",
        "    Returns\n",
        "    -------\n",
        "    datatype\n",
        "        A description of the output, datatypes and behaviours.\n",
        "        Describe special cases and anything the user needs to\n",
        "        know to use the function.\n",
        "    \n",
        "    Examples\n",
        "    --------\n",
        "    >>> function_name(3,8,-5)\n",
        "    2.0\n",
        "    \"\"\""
      ]
    },
    {
      "cell_type": "code",
      "execution_count": null,
      "metadata": {
        "id": "gHZGBl2I0Ap3"
      },
      "outputs": [],
      "source": [
        "def make_palindrome(string):\n",
        "    \"\"\"Turns the string into a palindrome by concatenating \n",
        "    itself with a reversed version of itself.\n",
        "    \n",
        "    Parameters\n",
        "    ----------\n",
        "    string : str\n",
        "        The string to turn into a palindrome.\n",
        "        \n",
        "    Returns\n",
        "    -------\n",
        "    str\n",
        "        string concatenated with a reversed version of string\n",
        "        \n",
        "    Examples\n",
        "    --------\n",
        "    >>> make_palindrome('tom')\n",
        "    'tommot'\n",
        "    \"\"\"\n",
        "    return string + string[::-1]"
      ]
    },
    {
      "cell_type": "code",
      "execution_count": null,
      "metadata": {
        "id": "ohX9mzs20Ap3",
        "outputId": "ad7aeaab-c331-417c-e66b-cabab556ba7e"
      },
      "outputs": [
        {
          "name": "stdout",
          "output_type": "stream",
          "text": [
            "Object `make_palindrome` not found.\n"
          ]
        }
      ],
      "source": [
        "make_palindrome?"
      ]
    },
    {
      "cell_type": "markdown",
      "metadata": {
        "id": "UDafqCAd0Ap4"
      },
      "source": [
        "### Docstrings with Optional Arguments\n",
        "\n",
        "When specifying function arguments, we specify the defaults for optional arguments:"
      ]
    },
    {
      "cell_type": "code",
      "execution_count": null,
      "metadata": {
        "id": "w5UGLcYQ0Ap4"
      },
      "outputs": [],
      "source": [
        "# scipy style\n",
        "def repeat_string(s, n=2):\n",
        "    \"\"\"\n",
        "    Repeat the string s, n times.\n",
        "    \n",
        "    Parameters\n",
        "    ----------\n",
        "    s : str \n",
        "        the string\n",
        "    n : int, optional\n",
        "        the number of times, by default = 2\n",
        "        \n",
        "    Returns\n",
        "    -------\n",
        "    str\n",
        "        the repeated string\n",
        "        \n",
        "    Examples\n",
        "    --------\n",
        "    >>> repeat_string(\"Blah\", 3)\n",
        "    \"BlahBlahBlah\"\n",
        "    \"\"\"\n",
        "    return s * n"
      ]
    },
    {
      "cell_type": "markdown",
      "metadata": {
        "id": "QNAa4sTa0Ap4"
      },
      "source": [
        "### Type Hints"
      ]
    },
    {
      "cell_type": "markdown",
      "metadata": {
        "id": "ZGf_ZCPq0Ap4"
      },
      "source": [
        "[Type hinting](https://docs.python.org/3/library/typing.html) is exactly what it sounds like, it hints at the data type of function arguments. You can indicate the type of an argument in a function using the syntax `argument : dtype`, and the type of the return value using `def func() -> dtype`. Let's see an example:"
      ]
    },
    {
      "cell_type": "code",
      "execution_count": null,
      "metadata": {
        "id": "Kyssqv1x0Ap5"
      },
      "outputs": [],
      "source": [
        "# NumPy style\n",
        "def repeat_string(s: str, n: int = 2) -> str:  # <---- note the type hinting here\n",
        "    \"\"\"\n",
        "    Repeat the string s, n times.\n",
        "    \n",
        "    Parameters\n",
        "    ----------\n",
        "    s : str \n",
        "        the string\n",
        "    n : int, optional (default = 2)\n",
        "        the number of times\n",
        "        \n",
        "    Returns\n",
        "    -------\n",
        "    str\n",
        "        the repeated string\n",
        "        \n",
        "    Examples\n",
        "    --------\n",
        "    >>> repeat_string(\"Blah\", 3)\n",
        "    \"BlahBlahBlah\"\n",
        "    \"\"\"\n",
        "    return s * n"
      ]
    },
    {
      "cell_type": "code",
      "execution_count": null,
      "metadata": {
        "id": "SyIktG0b0Ap5",
        "outputId": "bc139be1-0735-4dab-fdad-a9b9b13bab38"
      },
      "outputs": [
        {
          "name": "stdout",
          "output_type": "stream",
          "text": [
            "Object `repeat_string` not found.\n"
          ]
        }
      ],
      "source": [
        "repeat_string?"
      ]
    },
    {
      "cell_type": "markdown",
      "metadata": {
        "id": "XNBd0rzI0Ap5"
      },
      "source": [
        "Type hinting just helps your users and IDE identify dtypes and identify bugs. It's just another level of documentation. They do not force users to use that date type, for example, I can still pass an `dict` to `repeat_string` if I want to:"
      ]
    },
    {
      "cell_type": "code",
      "execution_count": null,
      "metadata": {
        "tags": [
          "raises-exception"
        ],
        "id": "N8lt4YFL0Ap5",
        "outputId": "9dc19509-cef2-4df4-b193-c78b9bba4d82"
      },
      "outputs": [
        {
          "ename": "TypeError",
          "evalue": "unsupported operand type(s) for *: 'dict' and 'int'",
          "output_type": "error",
          "traceback": [
            "\u001b[0;31m---------------------------------------------------------------------------\u001b[0m",
            "\u001b[0;31mTypeError\u001b[0m                                 Traceback (most recent call last)",
            "\u001b[0;32m<ipython-input-85-48f8613bcebb>\u001b[0m in \u001b[0;36m<module>\u001b[0;34m\u001b[0m\n\u001b[0;32m----> 1\u001b[0;31m \u001b[0mrepeat_string\u001b[0m\u001b[0;34m(\u001b[0m\u001b[0;34m{\u001b[0m\u001b[0;34m'key_1'\u001b[0m\u001b[0;34m:\u001b[0m \u001b[0;36m1\u001b[0m\u001b[0;34m,\u001b[0m \u001b[0;34m'key_2'\u001b[0m\u001b[0;34m:\u001b[0m \u001b[0;36m2\u001b[0m\u001b[0;34m}\u001b[0m\u001b[0;34m)\u001b[0m\u001b[0;34m\u001b[0m\u001b[0;34m\u001b[0m\u001b[0m\n\u001b[0m",
            "\u001b[0;32m<ipython-input-83-964bad9c977b>\u001b[0m in \u001b[0;36mrepeat_string\u001b[0;34m(s, n)\u001b[0m\n\u001b[1;32m     21\u001b[0m     \u001b[0;34m\"BlahBlahBlah\"\u001b[0m\u001b[0;34m\u001b[0m\u001b[0;34m\u001b[0m\u001b[0m\n\u001b[1;32m     22\u001b[0m     \"\"\"\n\u001b[0;32m---> 23\u001b[0;31m     \u001b[0;32mreturn\u001b[0m \u001b[0ms\u001b[0m \u001b[0;34m*\u001b[0m \u001b[0mn\u001b[0m\u001b[0;34m\u001b[0m\u001b[0;34m\u001b[0m\u001b[0m\n\u001b[0m",
            "\u001b[0;31mTypeError\u001b[0m: unsupported operand type(s) for *: 'dict' and 'int'"
          ]
        }
      ],
      "source": [
        "repeat_string({'key_1': 1, 'key_2': 2})"
      ]
    },
    {
      "cell_type": "markdown",
      "metadata": {
        "id": "uOq9iW_-0Ap6"
      },
      "source": [
        "Most IDE's are clever enough to even read your type hinting and warn you if you're using a different dtype in the function, e.g., this VScode screenshot:"
      ]
    },
    {
      "cell_type": "markdown",
      "metadata": {
        "id": "r2qt7VEh0Ap6"
      },
      "source": [
        "![](img/chapter2/type_hint_1.png)\n",
        "![](img/chapter2/type_hint_2.png)"
      ]
    }
  ],
  "metadata": {
    "kernelspec": {
      "display_name": "Python 3 (ipykernel)",
      "language": "python",
      "name": "python3"
    },
    "language_info": {
      "codemirror_mode": {
        "name": "ipython",
        "version": 3
      },
      "file_extension": ".py",
      "mimetype": "text/x-python",
      "name": "python",
      "nbconvert_exporter": "python",
      "pygments_lexer": "ipython3",
      "version": "3.9.7"
    },
    "toc": {
      "base_numbering": 1,
      "nav_menu": {},
      "number_sections": false,
      "sideBar": true,
      "skip_h1_title": true,
      "title_cell": "Lecture Outline",
      "title_sidebar": "Contents",
      "toc_cell": true,
      "toc_position": {
        "height": "calc(100% - 180px)",
        "left": "10px",
        "top": "150px",
        "width": "333.188px"
      },
      "toc_section_display": true,
      "toc_window_display": true
    },
    "colab": {
      "name": "Basic-loops-functions.ipynb",
      "provenance": []
    }
  },
  "nbformat": 4,
  "nbformat_minor": 0
}